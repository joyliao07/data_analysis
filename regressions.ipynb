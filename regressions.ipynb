{
 "cells": [
  {
   "cell_type": "markdown",
   "metadata": {},
   "source": [
    "# Regressions"
   ]
  },
  {
   "cell_type": "markdown",
   "metadata": {},
   "source": [
    "## Setup"
   ]
  },
  {
   "cell_type": "code",
   "execution_count": 1,
   "metadata": {},
   "outputs": [],
   "source": [
    "import numpy as np\n",
    "from datetime import datetime\n",
    "import pandas as pd\n",
    "import matplotlib\n",
    "import matplotlib.pyplot as plt\n",
    "import numpy.polynomial.polynomial as poly\n",
    "from sklearn.model_selection import train_test_split\n",
    "from sklearn.metrics import mean_squared_error\n",
    "import requests\n",
    "import bokeh.plotting as bk\n",
    "from bokeh.models import HoverTool, Label, BoxZoomTool, PanTool, ZoomInTool, ZoomOutTool, ResetTool\n",
    "from pandas.plotting._converter import DatetimeConverter\n",
    "\n",
    "company_symbol = 'AAPL'"
   ]
  },
  {
   "cell_type": "markdown",
   "metadata": {},
   "source": [
    "## Request To API"
   ]
  },
  {
   "cell_type": "code",
   "execution_count": 2,
   "metadata": {},
   "outputs": [
    {
     "data": {
      "text/html": [
       "<div>\n",
       "<style scoped>\n",
       "    .dataframe tbody tr th:only-of-type {\n",
       "        vertical-align: middle;\n",
       "    }\n",
       "\n",
       "    .dataframe tbody tr th {\n",
       "        vertical-align: top;\n",
       "    }\n",
       "\n",
       "    .dataframe thead th {\n",
       "        text-align: right;\n",
       "    }\n",
       "</style>\n",
       "<table border=\"1\" class=\"dataframe\">\n",
       "  <thead>\n",
       "    <tr style=\"text-align: right;\">\n",
       "      <th></th>\n",
       "      <th>change</th>\n",
       "      <th>changeOverTime</th>\n",
       "      <th>changePercent</th>\n",
       "      <th>close</th>\n",
       "      <th>date</th>\n",
       "      <th>high</th>\n",
       "      <th>label</th>\n",
       "      <th>low</th>\n",
       "      <th>open</th>\n",
       "      <th>unadjustedVolume</th>\n",
       "      <th>volume</th>\n",
       "      <th>vwap</th>\n",
       "    </tr>\n",
       "  </thead>\n",
       "  <tbody>\n",
       "    <tr>\n",
       "      <th>0</th>\n",
<<<<<<< HEAD
       "      <td>2.762500</td>\n",
       "      <td>0.000000</td>\n",
=======
       "      <td>-0.827309</td>\n",
       "      <td>0.000000</td>\n",
       "      <td>-1.146</td>\n",
       "      <td>71.3844</td>\n",
       "      <td>2013-12-19</td>\n",
       "      <td>72.1107</td>\n",
       "      <td>Dec 19, 13</td>\n",
       "      <td>71.2887</td>\n",
       "      <td>72.0452</td>\n",
       "      <td>11462767</td>\n",
       "      <td>80239369</td>\n",
       "      <td>71.6091</td>\n",
       "    </tr>\n",
       "    <tr>\n",
       "      <th>1</th>\n",
       "      <td>0.597864</td>\n",
       "      <td>0.008374</td>\n",
       "      <td>0.838</td>\n",
       "      <td>71.9822</td>\n",
       "      <td>2013-12-20</td>\n",
       "      <td>72.3218</td>\n",
       "      <td>Dec 20, 13</td>\n",
       "      <td>71.4313</td>\n",
       "      <td>71.5116</td>\n",
       "      <td>15586205</td>\n",
       "      <td>109103435</td>\n",
       "      <td>71.9809</td>\n",
       "    </tr>\n",
       "    <tr>\n",
       "      <th>2</th>\n",
       "      <td>2.762500</td>\n",
       "      <td>0.047073</td>\n",
>>>>>>> 0a08a589622e504f96b07fd13ed30ea8602c3b50
       "      <td>3.838</td>\n",
       "      <td>74.7447</td>\n",
       "      <td>2013-12-23</td>\n",
       "      <td>74.8273</td>\n",
       "      <td>Dec 23, 13</td>\n",
       "      <td>73.7837</td>\n",
       "      <td>74.4707</td>\n",
       "      <td>17903833</td>\n",
       "      <td>125326831</td>\n",
       "      <td>74.4027</td>\n",
       "    </tr>\n",
       "    <tr>\n",
<<<<<<< HEAD
       "      <th>1</th>\n",
       "      <td>-0.317288</td>\n",
       "      <td>-0.004244</td>\n",
=======
       "      <th>3</th>\n",
       "      <td>-0.317288</td>\n",
       "      <td>0.042630</td>\n",
>>>>>>> 0a08a589622e504f96b07fd13ed30ea8602c3b50
       "      <td>-0.424</td>\n",
       "      <td>74.4275</td>\n",
       "      <td>2013-12-24</td>\n",
       "      <td>74.9794</td>\n",
       "      <td>Dec 24, 13</td>\n",
       "      <td>74.2124</td>\n",
       "      <td>74.7185</td>\n",
       "      <td>5984105</td>\n",
       "      <td>41888735</td>\n",
       "      <td>74.5717</td>\n",
       "    </tr>\n",
       "    <tr>\n",
<<<<<<< HEAD
       "      <th>2</th>\n",
       "      <td>-0.494284</td>\n",
       "      <td>-0.010857</td>\n",
=======
       "      <th>4</th>\n",
       "      <td>-0.494284</td>\n",
       "      <td>0.035705</td>\n",
>>>>>>> 0a08a589622e504f96b07fd13ed30ea8602c3b50
       "      <td>-0.664</td>\n",
       "      <td>73.9332</td>\n",
       "      <td>2013-12-26</td>\n",
       "      <td>74.6674</td>\n",
       "      <td>Dec 26, 13</td>\n",
       "      <td>73.8645</td>\n",
       "      <td>74.4838</td>\n",
       "      <td>7286005</td>\n",
       "      <td>51002035</td>\n",
       "      <td>74.1287</td>\n",
       "    </tr>\n",
<<<<<<< HEAD
       "    <tr>\n",
       "      <th>3</th>\n",
       "      <td>-0.499533</td>\n",
       "      <td>-0.017541</td>\n",
       "      <td>-0.676</td>\n",
       "      <td>73.4336</td>\n",
       "      <td>2013-12-27</td>\n",
       "      <td>74.0000</td>\n",
       "      <td>Dec 27, 13</td>\n",
       "      <td>73.3563</td>\n",
       "      <td>73.9227</td>\n",
       "      <td>8067331</td>\n",
       "      <td>56471317</td>\n",
       "      <td>73.5374</td>\n",
       "    </tr>\n",
       "    <tr>\n",
       "      <th>4</th>\n",
       "      <td>-0.730286</td>\n",
       "      <td>-0.027310</td>\n",
       "      <td>-0.994</td>\n",
       "      <td>72.7034</td>\n",
       "      <td>2013-12-30</td>\n",
       "      <td>73.4336</td>\n",
       "      <td>Dec 30, 13</td>\n",
       "      <td>72.4150</td>\n",
       "      <td>73.0888</td>\n",
       "      <td>9058246</td>\n",
       "      <td>63407722</td>\n",
       "      <td>72.7190</td>\n",
       "    </tr>\n",
=======
>>>>>>> 0a08a589622e504f96b07fd13ed30ea8602c3b50
       "  </tbody>\n",
       "</table>\n",
       "</div>"
      ],
      "text/plain": [
       "     change  changeOverTime  changePercent    close        date     high  \\\n",
<<<<<<< HEAD
       "0  2.762500        0.000000          3.838  74.7447  2013-12-23  74.8273   \n",
       "1 -0.317288       -0.004244         -0.424  74.4275  2013-12-24  74.9794   \n",
       "2 -0.494284       -0.010857         -0.664  73.9332  2013-12-26  74.6674   \n",
       "3 -0.499533       -0.017541         -0.676  73.4336  2013-12-27  74.0000   \n",
       "4 -0.730286       -0.027310         -0.994  72.7034  2013-12-30  73.4336   \n",
       "\n",
       "        label      low     open  unadjustedVolume     volume     vwap  \n",
       "0  Dec 23, 13  73.7837  74.4707          17903833  125326831  74.4027  \n",
       "1  Dec 24, 13  74.2124  74.7185           5984105   41888735  74.5717  \n",
       "2  Dec 26, 13  73.8645  74.4838           7286005   51002035  74.1287  \n",
       "3  Dec 27, 13  73.3563  73.9227           8067331   56471317  73.5374  \n",
       "4  Dec 30, 13  72.4150  73.0888           9058246   63407722  72.7190  "
=======
       "0 -0.827309        0.000000         -1.146  71.3844  2013-12-19  72.1107   \n",
       "1  0.597864        0.008374          0.838  71.9822  2013-12-20  72.3218   \n",
       "2  2.762500        0.047073          3.838  74.7447  2013-12-23  74.8273   \n",
       "3 -0.317288        0.042630         -0.424  74.4275  2013-12-24  74.9794   \n",
       "4 -0.494284        0.035705         -0.664  73.9332  2013-12-26  74.6674   \n",
       "\n",
       "        label      low     open  unadjustedVolume     volume     vwap  \n",
       "0  Dec 19, 13  71.2887  72.0452          11462767   80239369  71.6091  \n",
       "1  Dec 20, 13  71.4313  71.5116          15586205  109103435  71.9809  \n",
       "2  Dec 23, 13  73.7837  74.4707          17903833  125326831  74.4027  \n",
       "3  Dec 24, 13  74.2124  74.7185           5984105   41888735  74.5717  \n",
       "4  Dec 26, 13  73.8645  74.4838           7286005   51002035  74.1287  "
>>>>>>> 0a08a589622e504f96b07fd13ed30ea8602c3b50
      ]
     },
     "execution_count": 2,
     "metadata": {},
     "output_type": "execute_result"
    }
   ],
   "source": [
    "res = requests.get(f'https://api.iextrading.com/1.0/stock/{company_symbol}/chart/5y')\n",
    "data = res.json()\n",
    "df = pd.DataFrame(data)\n",
    "df.head(5)\n"
   ]
  },
  {
   "cell_type": "markdown",
   "metadata": {},
   "source": [
    "## Describe DataFrame"
   ]
  },
  {
   "cell_type": "code",
   "execution_count": 3,
   "metadata": {},
   "outputs": [
    {
     "data": {
      "text/html": [
       "<div>\n",
       "<style scoped>\n",
       "    .dataframe tbody tr th:only-of-type {\n",
       "        vertical-align: middle;\n",
       "    }\n",
       "\n",
       "    .dataframe tbody tr th {\n",
       "        vertical-align: top;\n",
       "    }\n",
       "\n",
       "    .dataframe thead th {\n",
       "        text-align: right;\n",
       "    }\n",
       "</style>\n",
       "<table border=\"1\" class=\"dataframe\">\n",
       "  <thead>\n",
       "    <tr style=\"text-align: right;\">\n",
       "      <th></th>\n",
       "      <th>change</th>\n",
       "      <th>changeOverTime</th>\n",
       "      <th>changePercent</th>\n",
       "      <th>close</th>\n",
       "      <th>high</th>\n",
       "      <th>low</th>\n",
       "      <th>open</th>\n",
       "      <th>unadjustedVolume</th>\n",
       "      <th>volume</th>\n",
       "      <th>vwap</th>\n",
       "    </tr>\n",
       "  </thead>\n",
       "  <tbody>\n",
       "    <tr>\n",
       "      <th>count</th>\n",
       "      <td>1258.000000</td>\n",
       "      <td>1258.000000</td>\n",
       "      <td>1258.000000</td>\n",
       "      <td>1258.000000</td>\n",
       "      <td>1258.000000</td>\n",
       "      <td>1258.000000</td>\n",
       "      <td>1258.000000</td>\n",
       "      <td>1.258000e+03</td>\n",
       "      <td>1.258000e+03</td>\n",
       "      <td>1258.000000</td>\n",
       "    </tr>\n",
       "    <tr>\n",
       "      <th>mean</th>\n",
<<<<<<< HEAD
       "      <td>0.067447</td>\n",
       "      <td>0.690339</td>\n",
       "      <td>0.073155</td>\n",
       "      <td>126.343863</td>\n",
       "      <td>127.408138</td>\n",
       "      <td>125.237502</td>\n",
       "      <td>126.332103</td>\n",
       "      <td>3.702103e+07</td>\n",
       "      <td>4.300250e+07</td>\n",
       "      <td>126.373892</td>\n",
       "    </tr>\n",
       "    <tr>\n",
       "      <th>std</th>\n",
       "      <td>2.019801</td>\n",
       "      <td>0.525433</td>\n",
       "      <td>1.498442</td>\n",
       "      <td>39.273352</td>\n",
       "      <td>39.644786</td>\n",
       "      <td>38.910179</td>\n",
       "      <td>39.288505</td>\n",
       "      <td>2.051530e+07</td>\n",
       "      <td>2.371054e+07</td>\n",
       "      <td>39.262366</td>\n",
=======
       "      <td>0.074609</td>\n",
       "      <td>0.767967</td>\n",
       "      <td>0.077395</td>\n",
       "      <td>126.205267</td>\n",
       "      <td>127.260977</td>\n",
       "      <td>125.101040</td>\n",
       "      <td>126.186758</td>\n",
       "      <td>3.695206e+07</td>\n",
       "      <td>4.306254e+07</td>\n",
       "      <td>126.232335</td>\n",
       "    </tr>\n",
       "    <tr>\n",
       "      <th>std</th>\n",
       "      <td>2.011206</td>\n",
       "      <td>0.550710</td>\n",
       "      <td>1.494487</td>\n",
       "      <td>39.312111</td>\n",
       "      <td>39.677456</td>\n",
       "      <td>38.948316</td>\n",
       "      <td>39.320805</td>\n",
       "      <td>2.051902e+07</td>\n",
       "      <td>2.379830e+07</td>\n",
       "      <td>39.298271</td>\n",
>>>>>>> 0a08a589622e504f96b07fd13ed30ea8602c3b50
       "    </tr>\n",
       "    <tr>\n",
       "      <th>min</th>\n",
       "      <td>-14.688700</td>\n",
<<<<<<< HEAD
       "      <td>-0.123328</td>\n",
=======
       "      <td>-0.082060</td>\n",
>>>>>>> 0a08a589622e504f96b07fd13ed30ea8602c3b50
       "      <td>-7.993000</td>\n",
       "      <td>65.526600</td>\n",
       "      <td>65.755800</td>\n",
       "      <td>64.709600</td>\n",
       "      <td>64.923300</td>\n",
       "      <td>5.704942e+06</td>\n",
       "      <td>1.147592e+07</td>\n",
       "      <td>57.582200</td>\n",
       "    </tr>\n",
       "    <tr>\n",
       "      <th>25%</th>\n",
<<<<<<< HEAD
       "      <td>-0.715038</td>\n",
       "      <td>0.291868</td>\n",
       "      <td>-0.616000</td>\n",
       "      <td>96.560275</td>\n",
       "      <td>97.511550</td>\n",
       "      <td>95.705975</td>\n",
       "      <td>96.373450</td>\n",
       "      <td>2.360659e+07</td>\n",
       "      <td>2.660238e+07</td>\n",
       "      <td>96.463875</td>\n",
       "    </tr>\n",
       "    <tr>\n",
       "      <th>50%</th>\n",
       "      <td>0.065235</td>\n",
       "      <td>0.514333</td>\n",
       "      <td>0.057000</td>\n",
       "      <td>113.188350</td>\n",
       "      <td>113.881300</td>\n",
       "      <td>112.638850</td>\n",
       "      <td>113.156450</td>\n",
       "      <td>3.317755e+07</td>\n",
       "      <td>3.703142e+07</td>\n",
       "      <td>113.218900</td>\n",
=======
       "      <td>-0.714904</td>\n",
       "      <td>0.350009</td>\n",
       "      <td>-0.613500</td>\n",
       "      <td>96.369550</td>\n",
       "      <td>97.058000</td>\n",
       "      <td>95.537500</td>\n",
       "      <td>95.987300</td>\n",
       "      <td>2.357676e+07</td>\n",
       "      <td>2.660238e+07</td>\n",
       "      <td>96.338500</td>\n",
       "    </tr>\n",
       "    <tr>\n",
       "      <th>50%</th>\n",
       "      <td>0.067517</td>\n",
       "      <td>0.584753</td>\n",
       "      <td>0.061500</td>\n",
       "      <td>113.126650</td>\n",
       "      <td>113.812200</td>\n",
       "      <td>112.398600</td>\n",
       "      <td>113.106150</td>\n",
       "      <td>3.311536e+07</td>\n",
       "      <td>3.703142e+07</td>\n",
       "      <td>113.176550</td>\n",
>>>>>>> 0a08a589622e504f96b07fd13ed30ea8602c3b50
       "    </tr>\n",
       "    <tr>\n",
       "      <th>75%</th>\n",
       "      <td>1.014775</td>\n",
<<<<<<< HEAD
       "      <td>1.076895</td>\n",
       "      <td>0.849250</td>\n",
       "      <td>155.236900</td>\n",
       "      <td>157.058900</td>\n",
       "      <td>153.892975</td>\n",
       "      <td>155.519525</td>\n",
       "      <td>4.647701e+07</td>\n",
       "      <td>5.240115e+07</td>\n",
       "      <td>156.037300</td>\n",
=======
       "      <td>1.170042</td>\n",
       "      <td>0.849250</td>\n",
       "      <td>154.907125</td>\n",
       "      <td>156.776725</td>\n",
       "      <td>153.655500</td>\n",
       "      <td>155.269725</td>\n",
       "      <td>4.645314e+07</td>\n",
       "      <td>5.246383e+07</td>\n",
       "      <td>155.682850</td>\n",
>>>>>>> 0a08a589622e504f96b07fd13ed30ea8602c3b50
       "    </tr>\n",
       "    <tr>\n",
       "      <th>max</th>\n",
       "      <td>11.132000</td>\n",
<<<<<<< HEAD
       "      <td>2.094040</td>\n",
=======
       "      <td>2.239687</td>\n",
>>>>>>> 0a08a589622e504f96b07fd13ed30ea8602c3b50
       "      <td>8.198000</td>\n",
       "      <td>231.263100</td>\n",
       "      <td>232.658200</td>\n",
       "      <td>228.981100</td>\n",
       "      <td>229.977600</td>\n",
       "      <td>1.898463e+08</td>\n",
       "      <td>2.668336e+08</td>\n",
       "      <td>231.426900</td>\n",
       "    </tr>\n",
       "  </tbody>\n",
       "</table>\n",
       "</div>"
      ],
      "text/plain": [
       "            change  changeOverTime  changePercent        close         high  \\\n",
       "count  1258.000000     1258.000000    1258.000000  1258.000000  1258.000000   \n",
<<<<<<< HEAD
       "mean      0.067447        0.690339       0.073155   126.343863   127.408138   \n",
       "std       2.019801        0.525433       1.498442    39.273352    39.644786   \n",
       "min     -14.688700       -0.123328      -7.993000    65.526600    65.755800   \n",
       "25%      -0.715038        0.291868      -0.616000    96.560275    97.511550   \n",
       "50%       0.065235        0.514333       0.057000   113.188350   113.881300   \n",
       "75%       1.014775        1.076895       0.849250   155.236900   157.058900   \n",
       "max      11.132000        2.094040       8.198000   231.263100   232.658200   \n",
       "\n",
       "               low         open  unadjustedVolume        volume         vwap  \n",
       "count  1258.000000  1258.000000      1.258000e+03  1.258000e+03  1258.000000  \n",
       "mean    125.237502   126.332103      3.702103e+07  4.300250e+07   126.373892  \n",
       "std      38.910179    39.288505      2.051530e+07  2.371054e+07    39.262366  \n",
       "min      64.709600    64.923300      5.704942e+06  1.147592e+07    57.582200  \n",
       "25%      95.705975    96.373450      2.360659e+07  2.660238e+07    96.463875  \n",
       "50%     112.638850   113.156450      3.317755e+07  3.703142e+07   113.218900  \n",
       "75%     153.892975   155.519525      4.647701e+07  5.240115e+07   156.037300  \n",
=======
       "mean      0.074609        0.767967       0.077395   126.205267   127.260977   \n",
       "std       2.011206        0.550710       1.494487    39.312111    39.677456   \n",
       "min     -14.688700       -0.082060      -7.993000    65.526600    65.755800   \n",
       "25%      -0.714904        0.350009      -0.613500    96.369550    97.058000   \n",
       "50%       0.067517        0.584753       0.061500   113.126650   113.812200   \n",
       "75%       1.014775        1.170042       0.849250   154.907125   156.776725   \n",
       "max      11.132000        2.239687       8.198000   231.263100   232.658200   \n",
       "\n",
       "               low         open  unadjustedVolume        volume         vwap  \n",
       "count  1258.000000  1258.000000      1.258000e+03  1.258000e+03  1258.000000  \n",
       "mean    125.101040   126.186758      3.695206e+07  4.306254e+07   126.232335  \n",
       "std      38.948316    39.320805      2.051902e+07  2.379830e+07    39.298271  \n",
       "min      64.709600    64.923300      5.704942e+06  1.147592e+07    57.582200  \n",
       "25%      95.537500    95.987300      2.357676e+07  2.660238e+07    96.338500  \n",
       "50%     112.398600   113.106150      3.311536e+07  3.703142e+07   113.176550  \n",
       "75%     153.655500   155.269725      4.645314e+07  5.246383e+07   155.682850  \n",
>>>>>>> 0a08a589622e504f96b07fd13ed30ea8602c3b50
       "max     228.981100   229.977600      1.898463e+08  2.668336e+08   231.426900  "
      ]
     },
     "execution_count": 3,
     "metadata": {},
     "output_type": "execute_result"
    }
   ],
   "source": [
    "df.describe()"
   ]
  },
  {
   "cell_type": "markdown",
   "metadata": {},
   "source": [
    "## Info of DataFrame"
   ]
  },
  {
   "cell_type": "code",
   "execution_count": 4,
   "metadata": {},
   "outputs": [
    {
     "name": "stdout",
     "output_type": "stream",
     "text": [
      "<class 'pandas.core.frame.DataFrame'>\n",
      "RangeIndex: 1258 entries, 0 to 1257\n",
      "Data columns (total 12 columns):\n",
      "change              1258 non-null float64\n",
      "changeOverTime      1258 non-null float64\n",
      "changePercent       1258 non-null float64\n",
      "close               1258 non-null float64\n",
      "date                1258 non-null object\n",
      "high                1258 non-null float64\n",
      "label               1258 non-null object\n",
      "low                 1258 non-null float64\n",
      "open                1258 non-null float64\n",
      "unadjustedVolume    1258 non-null int64\n",
      "volume              1258 non-null int64\n",
      "vwap                1258 non-null float64\n",
      "dtypes: float64(8), int64(2), object(2)\n",
      "memory usage: 118.0+ KB\n"
     ]
    }
   ],
   "source": [
    "df.info()"
   ]
  },
  {
   "cell_type": "markdown",
   "metadata": {},
   "source": [
    "## Datetime of DataFrame"
   ]
  },
  {
   "cell_type": "code",
   "execution_count": 5,
   "metadata": {},
   "outputs": [],
   "source": [
<<<<<<< HEAD
    "# Original Version:\n",
    "# df['date_pd'] = pd.to_datetime(df.date)\n",
    "\n",
    "# Updated Version:\n",
    "df['date_pd'] = pd.to_datetime(df['date'])\n",
    "\n",
    "\n",
    "df['date'] = pd.to_datetime(df['date'])"
=======
    "df['date_pd'] = pd.to_datetime(df.date)"
>>>>>>> 0a08a589622e504f96b07fd13ed30ea8602c3b50
   ]
  },
  {
   "cell_type": "code",
   "execution_count": 6,
   "metadata": {},
   "outputs": [
    {
     "data": {
      "text/html": [
       "<div>\n",
       "<style scoped>\n",
       "    .dataframe tbody tr th:only-of-type {\n",
       "        vertical-align: middle;\n",
       "    }\n",
       "\n",
       "    .dataframe tbody tr th {\n",
       "        vertical-align: top;\n",
       "    }\n",
       "\n",
       "    .dataframe thead th {\n",
       "        text-align: right;\n",
       "    }\n",
       "</style>\n",
       "<table border=\"1\" class=\"dataframe\">\n",
       "  <thead>\n",
       "    <tr style=\"text-align: right;\">\n",
       "      <th></th>\n",
       "      <th>change</th>\n",
       "      <th>changeOverTime</th>\n",
       "      <th>changePercent</th>\n",
       "      <th>close</th>\n",
       "      <th>date</th>\n",
       "      <th>high</th>\n",
       "      <th>label</th>\n",
       "      <th>low</th>\n",
       "      <th>open</th>\n",
       "      <th>unadjustedVolume</th>\n",
       "      <th>volume</th>\n",
       "      <th>vwap</th>\n",
       "      <th>date_pd</th>\n",
       "    </tr>\n",
       "  </thead>\n",
       "  <tbody>\n",
       "    <tr>\n",
       "      <th>0</th>\n",
<<<<<<< HEAD
       "      <td>2.762500</td>\n",
       "      <td>0.000000</td>\n",
=======
       "      <td>-0.827309</td>\n",
       "      <td>0.000000</td>\n",
       "      <td>-1.146</td>\n",
       "      <td>71.3844</td>\n",
       "      <td>2013-12-19</td>\n",
       "      <td>72.1107</td>\n",
       "      <td>Dec 19, 13</td>\n",
       "      <td>71.2887</td>\n",
       "      <td>72.0452</td>\n",
       "      <td>11462767</td>\n",
       "      <td>80239369</td>\n",
       "      <td>71.6091</td>\n",
       "      <td>2013-12-19</td>\n",
       "    </tr>\n",
       "    <tr>\n",
       "      <th>1</th>\n",
       "      <td>0.597864</td>\n",
       "      <td>0.008374</td>\n",
       "      <td>0.838</td>\n",
       "      <td>71.9822</td>\n",
       "      <td>2013-12-20</td>\n",
       "      <td>72.3218</td>\n",
       "      <td>Dec 20, 13</td>\n",
       "      <td>71.4313</td>\n",
       "      <td>71.5116</td>\n",
       "      <td>15586205</td>\n",
       "      <td>109103435</td>\n",
       "      <td>71.9809</td>\n",
       "      <td>2013-12-20</td>\n",
       "    </tr>\n",
       "    <tr>\n",
       "      <th>2</th>\n",
       "      <td>2.762500</td>\n",
       "      <td>0.047073</td>\n",
>>>>>>> 0a08a589622e504f96b07fd13ed30ea8602c3b50
       "      <td>3.838</td>\n",
       "      <td>74.7447</td>\n",
       "      <td>2013-12-23</td>\n",
       "      <td>74.8273</td>\n",
       "      <td>Dec 23, 13</td>\n",
       "      <td>73.7837</td>\n",
       "      <td>74.4707</td>\n",
       "      <td>17903833</td>\n",
       "      <td>125326831</td>\n",
       "      <td>74.4027</td>\n",
       "      <td>2013-12-23</td>\n",
       "    </tr>\n",
<<<<<<< HEAD
       "    <tr>\n",
       "      <th>1</th>\n",
       "      <td>-0.317288</td>\n",
       "      <td>-0.004244</td>\n",
       "      <td>-0.424</td>\n",
       "      <td>74.4275</td>\n",
       "      <td>2013-12-24</td>\n",
       "      <td>74.9794</td>\n",
       "      <td>Dec 24, 13</td>\n",
       "      <td>74.2124</td>\n",
       "      <td>74.7185</td>\n",
       "      <td>5984105</td>\n",
       "      <td>41888735</td>\n",
       "      <td>74.5717</td>\n",
       "      <td>2013-12-24</td>\n",
       "    </tr>\n",
       "    <tr>\n",
       "      <th>2</th>\n",
       "      <td>-0.494284</td>\n",
       "      <td>-0.010857</td>\n",
       "      <td>-0.664</td>\n",
       "      <td>73.9332</td>\n",
       "      <td>2013-12-26</td>\n",
       "      <td>74.6674</td>\n",
       "      <td>Dec 26, 13</td>\n",
       "      <td>73.8645</td>\n",
       "      <td>74.4838</td>\n",
       "      <td>7286005</td>\n",
       "      <td>51002035</td>\n",
       "      <td>74.1287</td>\n",
       "      <td>2013-12-26</td>\n",
       "    </tr>\n",
=======
>>>>>>> 0a08a589622e504f96b07fd13ed30ea8602c3b50
       "  </tbody>\n",
       "</table>\n",
       "</div>"
      ],
      "text/plain": [
<<<<<<< HEAD
       "     change  changeOverTime  changePercent    close       date     high  \\\n",
       "0  2.762500        0.000000          3.838  74.7447 2013-12-23  74.8273   \n",
       "1 -0.317288       -0.004244         -0.424  74.4275 2013-12-24  74.9794   \n",
       "2 -0.494284       -0.010857         -0.664  73.9332 2013-12-26  74.6674   \n",
       "\n",
       "        label      low     open  unadjustedVolume     volume     vwap  \\\n",
       "0  Dec 23, 13  73.7837  74.4707          17903833  125326831  74.4027   \n",
       "1  Dec 24, 13  74.2124  74.7185           5984105   41888735  74.5717   \n",
       "2  Dec 26, 13  73.8645  74.4838           7286005   51002035  74.1287   \n",
       "\n",
       "     date_pd  \n",
       "0 2013-12-23  \n",
       "1 2013-12-24  \n",
       "2 2013-12-26  "
=======
       "     change  changeOverTime  changePercent    close        date     high  \\\n",
       "0 -0.827309        0.000000         -1.146  71.3844  2013-12-19  72.1107   \n",
       "1  0.597864        0.008374          0.838  71.9822  2013-12-20  72.3218   \n",
       "2  2.762500        0.047073          3.838  74.7447  2013-12-23  74.8273   \n",
       "\n",
       "        label      low     open  unadjustedVolume     volume     vwap  \\\n",
       "0  Dec 19, 13  71.2887  72.0452          11462767   80239369  71.6091   \n",
       "1  Dec 20, 13  71.4313  71.5116          15586205  109103435  71.9809   \n",
       "2  Dec 23, 13  73.7837  74.4707          17903833  125326831  74.4027   \n",
       "\n",
       "     date_pd  \n",
       "0 2013-12-19  \n",
       "1 2013-12-20  \n",
       "2 2013-12-23  "
>>>>>>> 0a08a589622e504f96b07fd13ed30ea8602c3b50
      ]
     },
     "execution_count": 6,
     "metadata": {},
     "output_type": "execute_result"
    }
   ],
   "source": [
    "df.head(3)"
   ]
  },
  {
   "cell_type": "code",
   "execution_count": 7,
   "metadata": {},
   "outputs": [
    {
     "data": {
      "text/html": [
       "<div>\n",
       "<style scoped>\n",
       "    .dataframe tbody tr th:only-of-type {\n",
       "        vertical-align: middle;\n",
       "    }\n",
       "\n",
       "    .dataframe tbody tr th {\n",
       "        vertical-align: top;\n",
       "    }\n",
       "\n",
       "    .dataframe thead th {\n",
       "        text-align: right;\n",
       "    }\n",
       "</style>\n",
       "<table border=\"1\" class=\"dataframe\">\n",
       "  <thead>\n",
       "    <tr style=\"text-align: right;\">\n",
       "      <th></th>\n",
       "      <th>change</th>\n",
       "      <th>changeOverTime</th>\n",
       "      <th>changePercent</th>\n",
       "      <th>close</th>\n",
       "      <th>date</th>\n",
       "      <th>high</th>\n",
       "      <th>label</th>\n",
       "      <th>low</th>\n",
       "      <th>open</th>\n",
       "      <th>unadjustedVolume</th>\n",
       "      <th>volume</th>\n",
       "      <th>vwap</th>\n",
       "      <th>date_pd</th>\n",
       "      <th>year</th>\n",
       "    </tr>\n",
       "  </thead>\n",
       "  <tbody>\n",
       "    <tr>\n",
       "      <th>0</th>\n",
<<<<<<< HEAD
       "      <td>2.762500</td>\n",
       "      <td>0.000000</td>\n",
=======
       "      <td>-0.827309</td>\n",
       "      <td>0.000000</td>\n",
       "      <td>-1.146</td>\n",
       "      <td>71.3844</td>\n",
       "      <td>2013-12-19</td>\n",
       "      <td>72.1107</td>\n",
       "      <td>Dec 19, 13</td>\n",
       "      <td>71.2887</td>\n",
       "      <td>72.0452</td>\n",
       "      <td>11462767</td>\n",
       "      <td>80239369</td>\n",
       "      <td>71.6091</td>\n",
       "      <td>2013-12-19</td>\n",
       "      <td>2013</td>\n",
       "    </tr>\n",
       "    <tr>\n",
       "      <th>1</th>\n",
       "      <td>0.597864</td>\n",
       "      <td>0.008374</td>\n",
       "      <td>0.838</td>\n",
       "      <td>71.9822</td>\n",
       "      <td>2013-12-20</td>\n",
       "      <td>72.3218</td>\n",
       "      <td>Dec 20, 13</td>\n",
       "      <td>71.4313</td>\n",
       "      <td>71.5116</td>\n",
       "      <td>15586205</td>\n",
       "      <td>109103435</td>\n",
       "      <td>71.9809</td>\n",
       "      <td>2013-12-20</td>\n",
       "      <td>2013</td>\n",
       "    </tr>\n",
       "    <tr>\n",
       "      <th>2</th>\n",
       "      <td>2.762500</td>\n",
       "      <td>0.047073</td>\n",
>>>>>>> 0a08a589622e504f96b07fd13ed30ea8602c3b50
       "      <td>3.838</td>\n",
       "      <td>74.7447</td>\n",
       "      <td>2013-12-23</td>\n",
       "      <td>74.8273</td>\n",
       "      <td>Dec 23, 13</td>\n",
       "      <td>73.7837</td>\n",
       "      <td>74.4707</td>\n",
       "      <td>17903833</td>\n",
       "      <td>125326831</td>\n",
       "      <td>74.4027</td>\n",
       "      <td>2013-12-23</td>\n",
       "      <td>2013</td>\n",
       "    </tr>\n",
<<<<<<< HEAD
       "    <tr>\n",
       "      <th>1</th>\n",
       "      <td>-0.317288</td>\n",
       "      <td>-0.004244</td>\n",
       "      <td>-0.424</td>\n",
       "      <td>74.4275</td>\n",
       "      <td>2013-12-24</td>\n",
       "      <td>74.9794</td>\n",
       "      <td>Dec 24, 13</td>\n",
       "      <td>74.2124</td>\n",
       "      <td>74.7185</td>\n",
       "      <td>5984105</td>\n",
       "      <td>41888735</td>\n",
       "      <td>74.5717</td>\n",
       "      <td>2013-12-24</td>\n",
       "      <td>2013</td>\n",
       "    </tr>\n",
       "    <tr>\n",
       "      <th>2</th>\n",
       "      <td>-0.494284</td>\n",
       "      <td>-0.010857</td>\n",
       "      <td>-0.664</td>\n",
       "      <td>73.9332</td>\n",
       "      <td>2013-12-26</td>\n",
       "      <td>74.6674</td>\n",
       "      <td>Dec 26, 13</td>\n",
       "      <td>73.8645</td>\n",
       "      <td>74.4838</td>\n",
       "      <td>7286005</td>\n",
       "      <td>51002035</td>\n",
       "      <td>74.1287</td>\n",
       "      <td>2013-12-26</td>\n",
       "      <td>2013</td>\n",
       "    </tr>\n",
=======
>>>>>>> 0a08a589622e504f96b07fd13ed30ea8602c3b50
       "  </tbody>\n",
       "</table>\n",
       "</div>"
      ],
      "text/plain": [
<<<<<<< HEAD
       "     change  changeOverTime  changePercent    close       date     high  \\\n",
       "0  2.762500        0.000000          3.838  74.7447 2013-12-23  74.8273   \n",
       "1 -0.317288       -0.004244         -0.424  74.4275 2013-12-24  74.9794   \n",
       "2 -0.494284       -0.010857         -0.664  73.9332 2013-12-26  74.6674   \n",
       "\n",
       "        label      low     open  unadjustedVolume     volume     vwap  \\\n",
       "0  Dec 23, 13  73.7837  74.4707          17903833  125326831  74.4027   \n",
       "1  Dec 24, 13  74.2124  74.7185           5984105   41888735  74.5717   \n",
       "2  Dec 26, 13  73.8645  74.4838           7286005   51002035  74.1287   \n",
       "\n",
       "     date_pd  year  \n",
       "0 2013-12-23  2013  \n",
       "1 2013-12-24  2013  \n",
       "2 2013-12-26  2013  "
=======
       "     change  changeOverTime  changePercent    close        date     high  \\\n",
       "0 -0.827309        0.000000         -1.146  71.3844  2013-12-19  72.1107   \n",
       "1  0.597864        0.008374          0.838  71.9822  2013-12-20  72.3218   \n",
       "2  2.762500        0.047073          3.838  74.7447  2013-12-23  74.8273   \n",
       "\n",
       "        label      low     open  unadjustedVolume     volume     vwap  \\\n",
       "0  Dec 19, 13  71.2887  72.0452          11462767   80239369  71.6091   \n",
       "1  Dec 20, 13  71.4313  71.5116          15586205  109103435  71.9809   \n",
       "2  Dec 23, 13  73.7837  74.4707          17903833  125326831  74.4027   \n",
       "\n",
       "     date_pd  year  \n",
       "0 2013-12-19  2013  \n",
       "1 2013-12-20  2013  \n",
       "2 2013-12-23  2013  "
>>>>>>> 0a08a589622e504f96b07fd13ed30ea8602c3b50
      ]
     },
     "execution_count": 7,
     "metadata": {},
     "output_type": "execute_result"
    }
   ],
   "source": [
    "df['year'] = df.date_pd.dt.year\n",
    "df.head(3)"
   ]
  },
  {
   "cell_type": "markdown",
   "metadata": {},
   "source": [
    "## Regression Model"
   ]
  },
  {
   "cell_type": "code",
   "execution_count": 8,
   "metadata": {},
   "outputs": [],
   "source": [
    "%matplotlib inline\n",
<<<<<<< HEAD
    "matplotlib.rcParams['figure.figsize'] = [5, 3]"
=======
    "matplotlib.rcParams['figure.figsize'] = [6, 4]"
>>>>>>> 0a08a589622e504f96b07fd13ed30ea8602c3b50
   ]
  },
  {
   "cell_type": "markdown",
   "metadata": {},
   "source": [
    "## Split Data Into Train & Test Data"
   ]
  },
  {
   "cell_type": "code",
   "execution_count": 9,
   "metadata": {},
   "outputs": [],
   "source": [
    "# TO PASS IN DATA\n",
    "X_full, Y_full = df.date_pd, df.close"
   ]
  },
  {
   "cell_type": "code",
   "execution_count": 10,
   "metadata": {},
   "outputs": [],
   "source": [
    "X_train, X_test, Y_train, Y_test = train_test_split(X_full, Y_full, test_size=0.5, random_state=10)"
   ]
  },
  {
   "cell_type": "code",
   "execution_count": 11,
   "metadata": {},
   "outputs": [
    {
     "data": {
      "text/plain": [
       "Text(0.5, 1.0, 'Actual Stock Price')"
      ]
     },
     "execution_count": 11,
     "metadata": {},
     "output_type": "execute_result"
    },
    {
     "data": {
<<<<<<< HEAD
      "image/png": "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\n",
      "text/plain": [
       "<Figure size 360x216 with 1 Axes>"
=======
      "image/png": "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\n",
      "text/plain": [
       "<Figure size 432x288 with 1 Axes>"
>>>>>>> 0a08a589622e504f96b07fd13ed30ea8602c3b50
      ]
     },
     "metadata": {
      "needs_background": "light"
     },
     "output_type": "display_data"
    }
   ],
   "source": [
<<<<<<< HEAD
    "plt.plot(X_train, Y_train, 'bo', markersize=0.5)\n",
=======
    "plt.plot(X_train, Y_train, 'bo', markersize=3)\n",
>>>>>>> 0a08a589622e504f96b07fd13ed30ea8602c3b50
    "plt.title('Actual Stock Price')"
   ]
  },
  {
   "cell_type": "code",
   "execution_count": 12,
   "metadata": {},
   "outputs": [
    {
     "data": {
      "text/plain": [
       "Text(0.5, 1.0, 'Test Set')"
      ]
     },
     "execution_count": 12,
     "metadata": {},
     "output_type": "execute_result"
    },
    {
     "data": {
<<<<<<< HEAD
      "image/png": "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\n",
      "text/plain": [
       "<Figure size 360x216 with 1 Axes>"
=======
      "image/png": "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\n",
      "text/plain": [
       "<Figure size 432x288 with 1 Axes>"
>>>>>>> 0a08a589622e504f96b07fd13ed30ea8602c3b50
      ]
     },
     "metadata": {
      "needs_background": "light"
     },
     "output_type": "display_data"
    }
   ],
   "source": [
<<<<<<< HEAD
    "plt.plot(X_test, Y_test, 'bo', markersize=0.5)\n",
=======
    "plt.plot(X_test, Y_test, 'bo', markersize=3)\n",
>>>>>>> 0a08a589622e504f96b07fd13ed30ea8602c3b50
    "plt.title('Test Set')"
   ]
  },
  {
   "cell_type": "markdown",
   "metadata": {},
   "source": [
    "## Fit Training Data Into Regression"
   ]
  },
  {
   "cell_type": "code",
<<<<<<< HEAD
   "execution_count": 13,
   "metadata": {},
   "outputs": [],
   "source": [
    "# Original conversion:\n",
    "# X_full_numpy = [matplotlib.dates.date2num(x) for x in X_full]\n",
    "\n",
    "# Updated conversion:\n",
    "X_years = [matplotlib.dates.date2num(x) for x in X_train]\n",
    "\n",
    "# Skip re-splitting the data"
=======
   "execution_count": 24,
   "metadata": {},
   "outputs": [
    {
     "data": {
      "text/plain": [
       "array([735221., 735222., 735225., ..., 737042., 737045., 737046.])"
      ]
     },
     "execution_count": 24,
     "metadata": {},
     "output_type": "execute_result"
    }
   ],
   "source": [
    "X_full_numpy = matplotlib.dates.date2num(X_full)\n",
    "# X_full_numpy = [matplotlib.dates.date2num(x) for x in X_full]\n",
    "\n",
    "\n",
    "Y_full_numpy = Y_full\n",
    "X_train_numpy, X_test_numpy, Y_train_numpy, Y_test_numpy = train_test_split(X_full_numpy, Y_full_numpy, test_size=0.5, random_state=10)\n",
    "X_full_numpy"
>>>>>>> 0a08a589622e504f96b07fd13ed30ea8602c3b50
   ]
  },
  {
   "cell_type": "code",
   "execution_count": 14,
   "metadata": {},
<<<<<<< HEAD
=======
   "outputs": [],
   "source": [
    "# result = X_full_numpy.sort()\n",
    "# type(X_full_numpy)"
   ]
  },
  {
   "cell_type": "code",
   "execution_count": null,
   "metadata": {},
   "outputs": [],
   "source": []
  },
  {
   "cell_type": "code",
   "execution_count": 15,
   "metadata": {},
>>>>>>> 0a08a589622e504f96b07fd13ed30ea8602c3b50
   "outputs": [
    {
     "name": "stderr",
     "output_type": "stream",
     "text": [
      "/Users/joyceliao/.local/share/virtualenvs/data_analysis-2Dzdq7Jq/lib/python3.7/site-packages/ipykernel_launcher.py:3: RankWarning: The fit may be poorly conditioned\n",
      "  This is separate from the ipykernel package so we can avoid doing imports until\n"
     ]
    }
   ],
   "source": [
<<<<<<< HEAD
    "coefs_lin = poly.polyfit(X_years, Y_train, 1)\n",
    "coefs_sq = poly.polyfit(X_years, Y_train, 2)\n",
    "coefs_ten = poly.polyfit(X_years, Y_train, 11)\n"
=======
    "coefs_lin = poly.polyfit(X_train_numpy, Y_train_numpy, 1)\n",
    "coefs_sq = poly.polyfit(X_train_numpy, Y_train_numpy, 2)\n",
    "coefs_ten = poly.polyfit(X_train_numpy, Y_train_numpy, 11)\n"
>>>>>>> 0a08a589622e504f96b07fd13ed30ea8602c3b50
   ]
  },
  {
   "cell_type": "code",
<<<<<<< HEAD
   "execution_count": 15,
   "metadata": {},
   "outputs": [],
   "source": [
    "X_line = np.linspace(matplotlib.dates.date2num(X_train.min()), matplotlib.dates.date2num(X_train.max()), 10000)\n",
    "\n",
    "# X_line = np.linspace(X_years.min(), X_years.max(), 10000)\n",
    "\n",
    "ffit_ln = poly.polyval(X_line, coefs_lin)\n",
    "ffit_sq = poly.polyval(X_line, coefs_sq)\n",
    "ffit_ten = poly.polyval(X_line, coefs_ten)\n",
    "# X_line?\n",
    "# matplotlib.dates.date2num(X_train.min())"
=======
   "execution_count": 16,
   "metadata": {},
   "outputs": [],
   "source": [
    "# fix X_line - pass in actual X numbers\n",
    "X_line = np.linspace(0, 500, 5000)\n",
    "ffit_ln = poly.polyval(X_line, coefs_lin)\n",
    "ffit_sq = poly.polyval(X_line, coefs_sq)\n",
    "ffit_ten = poly.polyval(X_line, coefs_ten)"
>>>>>>> 0a08a589622e504f96b07fd13ed30ea8602c3b50
   ]
  },
  {
   "cell_type": "code",
<<<<<<< HEAD
   "execution_count": 16,
=======
   "execution_count": 17,
>>>>>>> 0a08a589622e504f96b07fd13ed30ea8602c3b50
   "metadata": {
    "scrolled": true
   },
   "outputs": [
    {
     "data": {
      "text/plain": [
       "Text(0.5, 1.0, '5-Year Stock Trend')"
      ]
     },
<<<<<<< HEAD
     "execution_count": 16,
=======
     "execution_count": 17,
>>>>>>> 0a08a589622e504f96b07fd13ed30ea8602c3b50
     "metadata": {},
     "output_type": "execute_result"
    },
    {
     "data": {
<<<<<<< HEAD
      "image/png": "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\n",
      "text/plain": [
       "<Figure size 360x216 with 1 Axes>"
=======
      "image/png": "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\n",
      "text/plain": [
       "<Figure size 432x288 with 1 Axes>"
>>>>>>> 0a08a589622e504f96b07fd13ed30ea8602c3b50
      ]
     },
     "metadata": {
      "needs_background": "light"
     },
     "output_type": "display_data"
    }
   ],
   "source": [
<<<<<<< HEAD
    "plt.figure(figsize=(5, 3))\n",
    "\n",
    "# plt.ylim?\n",
    "plt.ylim(min(Y_train - 10), max(Y_train + 10))\n",
    "# plt.xlim(min(X_train_numpy), max(X_train_numpy), 100000)\n",
    "\n",
=======
    "# plt.ylim?\n",
    "plt.ylim(min(Y_train_numpy - 20), max(Y_train_numpy + 50))\n",
    "plt.xlim(min(X_train_numpy), max(X_train_numpy))\n",
>>>>>>> 0a08a589622e504f96b07fd13ed30ea8602c3b50
    "plt.plot(X_line, ffit_ln, 'g')\n",
    "plt.plot(X_line, ffit_sq, 'b')\n",
    "plt.plot(X_line, ffit_ten, 'r')\n",
    "\n",
    "# X_month = matplotlib.dates.MonthLocator()\n",
    "\n",
<<<<<<< HEAD
    "plt.plot(X_train, Y_train, 'ro', markersize=0.5)\n",
=======
    "plt.plot(X_train_numpy, Y_train_numpy, 'ro', markersize=4)\n",
>>>>>>> 0a08a589622e504f96b07fd13ed30ea8602c3b50
    "plt.title('5-Year Stock Trend')"
   ]
  },
  {
   "cell_type": "markdown",
   "metadata": {},
   "source": [
<<<<<<< HEAD
    "## Regression Fitting Model Conclusion:"
   ]
  },
  {
   "cell_type": "code",
   "execution_count": 17,
   "metadata": {},
   "outputs": [
    {
     "name": "stdout",
     "output_type": "stream",
     "text": [
      "I think the 11th polyfit best describes the trend of the stock price since the linear and the quadratic both underestimated the fluctuation of the prices.\n"
     ]
    }
   ],
   "source": [
    "print('I think the 11th polyfit best describes the trend of the stock price since the linear and the quadratic both underestimated the fluctuation of the prices.')"
   ]
  },
  {
   "cell_type": "markdown",
   "metadata": {},
   "source": [
=======
>>>>>>> 0a08a589622e504f96b07fd13ed30ea8602c3b50
    "## Conclusion (1): "
   ]
  },
  {
   "cell_type": "code",
   "execution_count": 18,
   "metadata": {},
   "outputs": [
    {
     "name": "stdout",
     "output_type": "stream",
     "text": [
      "The price of stock came in a wave form, but generally follows an upward direction over the years.\n"
     ]
    }
   ],
   "source": [
    "print(f'The price of stock came in a wave form, but generally follows an upward direction over the years.')"
   ]
  },
  {
   "cell_type": "markdown",
   "metadata": {},
   "source": [
    "## Conclusion (2):"
   ]
  },
  {
   "cell_type": "code",
   "execution_count": 19,
   "metadata": {},
   "outputs": [
    {
     "data": {
      "text/html": [
       "<div>\n",
       "<style scoped>\n",
       "    .dataframe tbody tr th:only-of-type {\n",
       "        vertical-align: middle;\n",
       "    }\n",
       "\n",
       "    .dataframe tbody tr th {\n",
       "        vertical-align: top;\n",
       "    }\n",
       "\n",
       "    .dataframe thead th {\n",
       "        text-align: right;\n",
       "    }\n",
       "</style>\n",
       "<table border=\"1\" class=\"dataframe\">\n",
       "  <thead>\n",
       "    <tr style=\"text-align: right;\">\n",
       "      <th></th>\n",
       "      <th>change</th>\n",
       "      <th>changeOverTime</th>\n",
       "      <th>changePercent</th>\n",
       "      <th>close</th>\n",
       "      <th>date</th>\n",
       "      <th>high</th>\n",
       "      <th>label</th>\n",
       "      <th>low</th>\n",
       "      <th>open</th>\n",
       "      <th>unadjustedVolume</th>\n",
       "      <th>volume</th>\n",
       "      <th>vwap</th>\n",
       "      <th>date_pd</th>\n",
       "      <th>year</th>\n",
       "    </tr>\n",
       "  </thead>\n",
       "  <tbody>\n",
       "    <tr>\n",
<<<<<<< HEAD
       "      <th>1203</th>\n",
       "      <td>2.7803</td>\n",
       "      <td>2.09404</td>\n",
=======
       "      <th>1205</th>\n",
       "      <td>2.7803</td>\n",
       "      <td>2.239687</td>\n",
>>>>>>> 0a08a589622e504f96b07fd13ed30ea8602c3b50
       "      <td>1.217</td>\n",
       "      <td>231.2631</td>\n",
       "      <td>2018-10-03</td>\n",
       "      <td>232.6582</td>\n",
       "      <td>Oct 3, 18</td>\n",
       "      <td>228.9811</td>\n",
       "      <td>229.2501</td>\n",
       "      <td>28654799</td>\n",
       "      <td>28654799</td>\n",
       "      <td>231.4269</td>\n",
       "      <td>2018-10-03</td>\n",
       "      <td>2018</td>\n",
       "    </tr>\n",
       "  </tbody>\n",
       "</table>\n",
       "</div>"
      ],
      "text/plain": [
<<<<<<< HEAD
       "      change  changeOverTime  changePercent     close       date      high  \\\n",
       "1203  2.7803         2.09404          1.217  231.2631 2018-10-03  232.6582   \n",
       "\n",
       "          label       low      open  unadjustedVolume    volume      vwap  \\\n",
       "1203  Oct 3, 18  228.9811  229.2501          28654799  28654799  231.4269   \n",
       "\n",
       "        date_pd  year  \n",
       "1203 2018-10-03  2018  "
=======
       "      change  changeOverTime  changePercent     close        date      high  \\\n",
       "1205  2.7803        2.239687          1.217  231.2631  2018-10-03  232.6582   \n",
       "\n",
       "          label       low      open  unadjustedVolume    volume      vwap  \\\n",
       "1205  Oct 3, 18  228.9811  229.2501          28654799  28654799  231.4269   \n",
       "\n",
       "        date_pd  year  \n",
       "1205 2018-10-03  2018  "
>>>>>>> 0a08a589622e504f96b07fd13ed30ea8602c3b50
      ]
     },
     "execution_count": 19,
     "metadata": {},
     "output_type": "execute_result"
    }
   ],
   "source": [
    "highest = df.sort_values(by=['close']).tail(1)\n",
    "highest"
   ]
  },
  {
   "cell_type": "code",
   "execution_count": 20,
   "metadata": {},
   "outputs": [
    {
     "name": "stdout",
     "output_type": "stream",
     "text": [
      "The highest point of the stock price during the 5 years was $231.\n"
     ]
    }
   ],
   "source": [
    "print(f'The highest point of the stock price during the 5 years was $231.')"
   ]
  },
  {
   "cell_type": "markdown",
   "metadata": {},
   "source": [
    "## Conclusion (3): "
   ]
  },
  {
   "cell_type": "code",
   "execution_count": 21,
   "metadata": {},
   "outputs": [
    {
     "data": {
      "text/html": [
       "<div>\n",
       "<style scoped>\n",
       "    .dataframe tbody tr th:only-of-type {\n",
       "        vertical-align: middle;\n",
       "    }\n",
       "\n",
       "    .dataframe tbody tr th {\n",
       "        vertical-align: top;\n",
       "    }\n",
       "\n",
       "    .dataframe thead th {\n",
       "        text-align: right;\n",
       "    }\n",
       "</style>\n",
       "<table border=\"1\" class=\"dataframe\">\n",
       "  <thead>\n",
       "    <tr style=\"text-align: right;\">\n",
       "      <th></th>\n",
       "      <th>change</th>\n",
       "      <th>changeOverTime</th>\n",
       "      <th>changePercent</th>\n",
       "      <th>close</th>\n",
       "      <th>date</th>\n",
       "      <th>high</th>\n",
       "      <th>label</th>\n",
       "      <th>low</th>\n",
       "      <th>open</th>\n",
       "      <th>unadjustedVolume</th>\n",
       "      <th>volume</th>\n",
       "      <th>vwap</th>\n",
       "      <th>date_pd</th>\n",
       "      <th>year</th>\n",
       "    </tr>\n",
       "  </thead>\n",
       "  <tbody>\n",
       "    <tr>\n",
<<<<<<< HEAD
       "      <th>25</th>\n",
       "      <td>-0.126916</td>\n",
       "      <td>-0.123328</td>\n",
=======
       "      <th>27</th>\n",
       "      <td>-0.126916</td>\n",
       "      <td>-0.08206</td>\n",
>>>>>>> 0a08a589622e504f96b07fd13ed30ea8602c3b50
       "      <td>-0.193</td>\n",
       "      <td>65.5266</td>\n",
       "      <td>2014-01-30</td>\n",
       "      <td>66.4074</td>\n",
       "      <td>Jan 30, 14</td>\n",
       "      <td>65.1226</td>\n",
       "      <td>65.8882</td>\n",
       "      <td>24251827</td>\n",
       "      <td>169762789</td>\n",
       "      <td>71.9614</td>\n",
       "      <td>2014-01-30</td>\n",
       "      <td>2014</td>\n",
       "    </tr>\n",
       "  </tbody>\n",
       "</table>\n",
       "</div>"
      ],
      "text/plain": [
<<<<<<< HEAD
       "      change  changeOverTime  changePercent    close       date     high  \\\n",
       "25 -0.126916       -0.123328         -0.193  65.5266 2014-01-30  66.4074   \n",
       "\n",
       "         label      low     open  unadjustedVolume     volume     vwap  \\\n",
       "25  Jan 30, 14  65.1226  65.8882          24251827  169762789  71.9614   \n",
       "\n",
       "      date_pd  year  \n",
       "25 2014-01-30  2014  "
=======
       "      change  changeOverTime  changePercent    close        date     high  \\\n",
       "27 -0.126916        -0.08206         -0.193  65.5266  2014-01-30  66.4074   \n",
       "\n",
       "         label      low     open  unadjustedVolume     volume     vwap  \\\n",
       "27  Jan 30, 14  65.1226  65.8882          24251827  169762789  71.9614   \n",
       "\n",
       "      date_pd  year  \n",
       "27 2014-01-30  2014  "
>>>>>>> 0a08a589622e504f96b07fd13ed30ea8602c3b50
      ]
     },
     "execution_count": 21,
     "metadata": {},
     "output_type": "execute_result"
    }
   ],
   "source": [
    "lowest = df.sort_values(by=['close']).head(1)\n",
    "lowest"
   ]
  },
  {
   "cell_type": "code",
   "execution_count": 22,
   "metadata": {},
   "outputs": [
    {
     "name": "stdout",
     "output_type": "stream",
     "text": [
      "The lowest point of the stock price during the 5 years was $66.\n"
     ]
    }
   ],
   "source": [
    "print(f'The lowest point of the stock price during the 5 years was $66.')"
   ]
  }
 ],
 "metadata": {
  "kernelspec": {
   "display_name": "Python 3",
   "language": "python",
   "name": "python3"
  },
  "language_info": {
   "codemirror_mode": {
    "name": "ipython",
    "version": 3
   },
   "file_extension": ".py",
   "mimetype": "text/x-python",
   "name": "python",
   "nbconvert_exporter": "python",
   "pygments_lexer": "ipython3",
   "version": "3.7.1"
  }
 },
 "nbformat": 4,
 "nbformat_minor": 2
}
