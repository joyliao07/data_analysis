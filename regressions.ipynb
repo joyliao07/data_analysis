{
 "cells": [
  {
   "cell_type": "markdown",
   "metadata": {},
   "source": [
    "# Regressions"
   ]
  },
  {
   "cell_type": "markdown",
   "metadata": {},
   "source": [
    "## Setup"
   ]
  },
  {
   "cell_type": "code",
   "execution_count": 1,
   "metadata": {},
   "outputs": [],
   "source": [
    "import numpy as np\n",
    "import pandas as pd\n",
    "import requests\n",
    "import bokeh.plotting as bk\n",
    "from bokeh.models import HoverTool, Label, BoxZoomTool, PanTool, ZoomInTool, ZoomOutTool, ResetTool\n",
    "\n",
    "API_URL = 'https://api.iextrading.com/1.0'"
   ]
  },
  {
   "cell_type": "markdown",
   "metadata": {},
   "source": [
    "## Request To API"
   ]
  },
  {
   "cell_type": "code",
   "execution_count": 2,
   "metadata": {},
   "outputs": [
    {
     "data": {
      "text/html": [
       "<div>\n",
       "<style scoped>\n",
       "    .dataframe tbody tr th:only-of-type {\n",
       "        vertical-align: middle;\n",
       "    }\n",
       "\n",
       "    .dataframe tbody tr th {\n",
       "        vertical-align: top;\n",
       "    }\n",
       "\n",
       "    .dataframe thead th {\n",
       "        text-align: right;\n",
       "    }\n",
       "</style>\n",
       "<table border=\"1\" class=\"dataframe\">\n",
       "  <thead>\n",
       "    <tr style=\"text-align: right;\">\n",
       "      <th></th>\n",
       "      <th>change</th>\n",
       "      <th>changeOverTime</th>\n",
       "      <th>changePercent</th>\n",
       "      <th>close</th>\n",
       "      <th>date</th>\n",
       "      <th>high</th>\n",
       "      <th>label</th>\n",
       "      <th>low</th>\n",
       "      <th>open</th>\n",
       "      <th>unadjustedVolume</th>\n",
       "      <th>volume</th>\n",
       "      <th>vwap</th>\n",
       "    </tr>\n",
       "  </thead>\n",
       "  <tbody>\n",
       "    <tr>\n",
       "      <th>0</th>\n",
       "      <td>0.507237</td>\n",
       "      <td>0.000000</td>\n",
       "      <td>0.985</td>\n",
       "      <td>52.0157</td>\n",
       "      <td>2013-12-18</td>\n",
       "      <td>52.0470</td>\n",
       "      <td>Dec 18, 13</td>\n",
       "      <td>50.7234</td>\n",
       "      <td>51.4722</td>\n",
       "      <td>4036771</td>\n",
       "      <td>16147084</td>\n",
       "      <td>51.6479</td>\n",
       "    </tr>\n",
       "    <tr>\n",
       "      <th>1</th>\n",
       "      <td>0.176322</td>\n",
       "      <td>0.003389</td>\n",
       "      <td>0.339</td>\n",
       "      <td>52.1920</td>\n",
       "      <td>2013-12-19</td>\n",
       "      <td>52.6241</td>\n",
       "      <td>Dec 19, 13</td>\n",
       "      <td>51.8200</td>\n",
       "      <td>51.9142</td>\n",
       "      <td>3350467</td>\n",
       "      <td>13401868</td>\n",
       "      <td>52.2965</td>\n",
       "    </tr>\n",
       "    <tr>\n",
       "      <th>2</th>\n",
       "      <td>-0.026570</td>\n",
       "      <td>0.002878</td>\n",
       "      <td>-0.051</td>\n",
       "      <td>52.1654</td>\n",
       "      <td>2013-12-20</td>\n",
       "      <td>52.7040</td>\n",
       "      <td>Dec 20, 13</td>\n",
       "      <td>52.1485</td>\n",
       "      <td>52.3466</td>\n",
       "      <td>5816824</td>\n",
       "      <td>23267296</td>\n",
       "      <td>52.3282</td>\n",
       "    </tr>\n",
       "    <tr>\n",
       "      <th>3</th>\n",
       "      <td>0.497574</td>\n",
       "      <td>0.012444</td>\n",
       "      <td>0.954</td>\n",
       "      <td>52.6630</td>\n",
       "      <td>2013-12-23</td>\n",
       "      <td>52.8562</td>\n",
       "      <td>Dec 23, 13</td>\n",
       "      <td>52.3055</td>\n",
       "      <td>52.4118</td>\n",
       "      <td>2003857</td>\n",
       "      <td>8015428</td>\n",
       "      <td>52.6210</td>\n",
       "    </tr>\n",
       "    <tr>\n",
       "      <th>4</th>\n",
       "      <td>0.169078</td>\n",
       "      <td>0.015695</td>\n",
       "      <td>0.321</td>\n",
       "      <td>52.8321</td>\n",
       "      <td>2013-12-24</td>\n",
       "      <td>53.0388</td>\n",
       "      <td>Dec 24, 13</td>\n",
       "      <td>52.4190</td>\n",
       "      <td>52.7693</td>\n",
       "      <td>1301911</td>\n",
       "      <td>5207644</td>\n",
       "      <td>52.6998</td>\n",
       "    </tr>\n",
       "  </tbody>\n",
       "</table>\n",
       "</div>"
      ],
      "text/plain": [
       "     change  changeOverTime  changePercent    close        date     high  \\\n",
       "0  0.507237        0.000000          0.985  52.0157  2013-12-18  52.0470   \n",
       "1  0.176322        0.003389          0.339  52.1920  2013-12-19  52.6241   \n",
       "2 -0.026570        0.002878         -0.051  52.1654  2013-12-20  52.7040   \n",
       "3  0.497574        0.012444          0.954  52.6630  2013-12-23  52.8562   \n",
       "4  0.169078        0.015695          0.321  52.8321  2013-12-24  53.0388   \n",
       "\n",
       "        label      low     open  unadjustedVolume    volume     vwap  \n",
       "0  Dec 18, 13  50.7234  51.4722           4036771  16147084  51.6479  \n",
       "1  Dec 19, 13  51.8200  51.9142           3350467  13401868  52.2965  \n",
       "2  Dec 20, 13  52.1485  52.3466           5816824  23267296  52.3282  \n",
       "3  Dec 23, 13  52.3055  52.4118           2003857   8015428  52.6210  \n",
       "4  Dec 24, 13  52.4190  52.7693           1301911   5207644  52.6998  "
      ]
     },
     "execution_count": 2,
     "metadata": {},
     "output_type": "execute_result"
    }
   ],
   "source": [
    "res = requests.get(f'{API_URL}/stock/V/chart/5y')\n",
    "data = res.json()\n",
    "df = pd.DataFrame(data)\n",
    "df.head(5)\n",
    "\n",
    "\n",
    "\n",
    "\n",
    "\n",
    "\n"
   ]
  },
  {
   "cell_type": "code",
   "execution_count": null,
   "metadata": {},
   "outputs": [],
   "source": []
  },
  {
   "cell_type": "code",
   "execution_count": null,
   "metadata": {},
   "outputs": [],
   "source": []
  },
  {
   "cell_type": "code",
   "execution_count": null,
   "metadata": {},
   "outputs": [],
   "source": []
  },
  {
   "cell_type": "code",
   "execution_count": null,
   "metadata": {},
   "outputs": [],
   "source": []
  },
  {
   "cell_type": "code",
   "execution_count": null,
   "metadata": {},
   "outputs": [],
   "source": []
  },
  {
   "cell_type": "code",
   "execution_count": null,
   "metadata": {},
   "outputs": [],
   "source": []
  },
  {
   "cell_type": "code",
   "execution_count": null,
   "metadata": {},
   "outputs": [],
   "source": []
  }
 ],
 "metadata": {
  "kernelspec": {
   "display_name": "Python 3",
   "language": "python",
   "name": "python3"
  },
  "language_info": {
   "codemirror_mode": {
    "name": "ipython",
    "version": 3
   },
   "file_extension": ".py",
   "mimetype": "text/x-python",
   "name": "python",
   "nbconvert_exporter": "python",
   "pygments_lexer": "ipython3",
   "version": "3.7.1"
  }
 },
 "nbformat": 4,
 "nbformat_minor": 2
}
