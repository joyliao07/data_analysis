{
 "cells": [
  {
   "cell_type": "markdown",
   "metadata": {},
   "source": [
    "# Regressions"
   ]
  },
  {
   "cell_type": "markdown",
   "metadata": {},
   "source": [
    "## Setup"
   ]
  },
  {
   "cell_type": "code",
   "execution_count": 1,
   "metadata": {},
   "outputs": [],
   "source": [
    "import numpy as np\n",
    "from datetime import datetime\n",
    "import pandas as pd\n",
    "import matplotlib\n",
    "import matplotlib.pyplot as plt\n",
    "import numpy.polynomial.polynomial as poly\n",
    "from sklearn.model_selection import train_test_split\n",
    "from sklearn.metrics import mean_squared_error\n",
    "import requests\n",
    "import bokeh.plotting as bk\n",
    "from bokeh.models import HoverTool, Label, BoxZoomTool, PanTool, ZoomInTool, ZoomOutTool, ResetTool\n",
    "from pandas.plotting._converter import DatetimeConverter\n",
    "\n",
    "company_symbol = 'AAPL'"
   ]
  },
  {
   "cell_type": "markdown",
   "metadata": {},
   "source": [
    "## Request To API"
   ]
  },
  {
   "cell_type": "code",
   "execution_count": 2,
   "metadata": {},
   "outputs": [
    {
     "data": {
      "text/html": [
       "<div>\n",
       "<style scoped>\n",
       "    .dataframe tbody tr th:only-of-type {\n",
       "        vertical-align: middle;\n",
       "    }\n",
       "\n",
       "    .dataframe tbody tr th {\n",
       "        vertical-align: top;\n",
       "    }\n",
       "\n",
       "    .dataframe thead th {\n",
       "        text-align: right;\n",
       "    }\n",
       "</style>\n",
       "<table border=\"1\" class=\"dataframe\">\n",
       "  <thead>\n",
       "    <tr style=\"text-align: right;\">\n",
       "      <th></th>\n",
       "      <th>change</th>\n",
       "      <th>changeOverTime</th>\n",
       "      <th>changePercent</th>\n",
       "      <th>close</th>\n",
       "      <th>date</th>\n",
       "      <th>high</th>\n",
       "      <th>label</th>\n",
       "      <th>low</th>\n",
       "      <th>open</th>\n",
       "      <th>unadjustedVolume</th>\n",
       "      <th>volume</th>\n",
       "      <th>vwap</th>\n",
       "    </tr>\n",
       "  </thead>\n",
       "  <tbody>\n",
       "    <tr>\n",
       "      <th>0</th>\n",
       "      <td>-0.827309</td>\n",
       "      <td>0.000000</td>\n",
       "      <td>-1.146</td>\n",
       "      <td>71.3844</td>\n",
       "      <td>2013-12-19</td>\n",
       "      <td>72.1107</td>\n",
       "      <td>Dec 19, 13</td>\n",
       "      <td>71.2887</td>\n",
       "      <td>72.0452</td>\n",
       "      <td>11462767</td>\n",
       "      <td>80239369</td>\n",
       "      <td>71.6091</td>\n",
       "    </tr>\n",
       "    <tr>\n",
       "      <th>1</th>\n",
       "      <td>0.597864</td>\n",
       "      <td>0.008374</td>\n",
       "      <td>0.838</td>\n",
       "      <td>71.9822</td>\n",
       "      <td>2013-12-20</td>\n",
       "      <td>72.3218</td>\n",
       "      <td>Dec 20, 13</td>\n",
       "      <td>71.4313</td>\n",
       "      <td>71.5116</td>\n",
       "      <td>15586205</td>\n",
       "      <td>109103435</td>\n",
       "      <td>71.9809</td>\n",
       "    </tr>\n",
       "    <tr>\n",
       "      <th>2</th>\n",
       "      <td>2.762500</td>\n",
       "      <td>0.047073</td>\n",
       "      <td>3.838</td>\n",
       "      <td>74.7447</td>\n",
       "      <td>2013-12-23</td>\n",
       "      <td>74.8273</td>\n",
       "      <td>Dec 23, 13</td>\n",
       "      <td>73.7837</td>\n",
       "      <td>74.4707</td>\n",
       "      <td>17903833</td>\n",
       "      <td>125326831</td>\n",
       "      <td>74.4027</td>\n",
       "    </tr>\n",
       "    <tr>\n",
       "      <th>3</th>\n",
       "      <td>-0.317288</td>\n",
       "      <td>0.042630</td>\n",
       "      <td>-0.424</td>\n",
       "      <td>74.4275</td>\n",
       "      <td>2013-12-24</td>\n",
       "      <td>74.9794</td>\n",
       "      <td>Dec 24, 13</td>\n",
       "      <td>74.2124</td>\n",
       "      <td>74.7185</td>\n",
       "      <td>5984105</td>\n",
       "      <td>41888735</td>\n",
       "      <td>74.5717</td>\n",
       "    </tr>\n",
       "    <tr>\n",
       "      <th>4</th>\n",
       "      <td>-0.494284</td>\n",
       "      <td>0.035705</td>\n",
       "      <td>-0.664</td>\n",
       "      <td>73.9332</td>\n",
       "      <td>2013-12-26</td>\n",
       "      <td>74.6674</td>\n",
       "      <td>Dec 26, 13</td>\n",
       "      <td>73.8645</td>\n",
       "      <td>74.4838</td>\n",
       "      <td>7286005</td>\n",
       "      <td>51002035</td>\n",
       "      <td>74.1287</td>\n",
       "    </tr>\n",
       "  </tbody>\n",
       "</table>\n",
       "</div>"
      ],
      "text/plain": [
       "     change  changeOverTime  changePercent    close        date     high  \\\n",
       "0 -0.827309        0.000000         -1.146  71.3844  2013-12-19  72.1107   \n",
       "1  0.597864        0.008374          0.838  71.9822  2013-12-20  72.3218   \n",
       "2  2.762500        0.047073          3.838  74.7447  2013-12-23  74.8273   \n",
       "3 -0.317288        0.042630         -0.424  74.4275  2013-12-24  74.9794   \n",
       "4 -0.494284        0.035705         -0.664  73.9332  2013-12-26  74.6674   \n",
       "\n",
       "        label      low     open  unadjustedVolume     volume     vwap  \n",
       "0  Dec 19, 13  71.2887  72.0452          11462767   80239369  71.6091  \n",
       "1  Dec 20, 13  71.4313  71.5116          15586205  109103435  71.9809  \n",
       "2  Dec 23, 13  73.7837  74.4707          17903833  125326831  74.4027  \n",
       "3  Dec 24, 13  74.2124  74.7185           5984105   41888735  74.5717  \n",
       "4  Dec 26, 13  73.8645  74.4838           7286005   51002035  74.1287  "
      ]
     },
     "execution_count": 2,
     "metadata": {},
     "output_type": "execute_result"
    }
   ],
   "source": [
    "res = requests.get(f'https://api.iextrading.com/1.0/stock/{company_symbol}/chart/5y')\n",
    "data = res.json()\n",
    "df = pd.DataFrame(data)\n",
    "df.head(5)\n"
   ]
  },
  {
   "cell_type": "markdown",
   "metadata": {},
   "source": [
    "## Describe DataFrame"
   ]
  },
  {
   "cell_type": "code",
   "execution_count": 3,
   "metadata": {},
   "outputs": [
    {
     "data": {
      "text/html": [
       "<div>\n",
       "<style scoped>\n",
       "    .dataframe tbody tr th:only-of-type {\n",
       "        vertical-align: middle;\n",
       "    }\n",
       "\n",
       "    .dataframe tbody tr th {\n",
       "        vertical-align: top;\n",
       "    }\n",
       "\n",
       "    .dataframe thead th {\n",
       "        text-align: right;\n",
       "    }\n",
       "</style>\n",
       "<table border=\"1\" class=\"dataframe\">\n",
       "  <thead>\n",
       "    <tr style=\"text-align: right;\">\n",
       "      <th></th>\n",
       "      <th>change</th>\n",
       "      <th>changeOverTime</th>\n",
       "      <th>changePercent</th>\n",
       "      <th>close</th>\n",
       "      <th>high</th>\n",
       "      <th>low</th>\n",
       "      <th>open</th>\n",
       "      <th>unadjustedVolume</th>\n",
       "      <th>volume</th>\n",
       "      <th>vwap</th>\n",
       "    </tr>\n",
       "  </thead>\n",
       "  <tbody>\n",
       "    <tr>\n",
       "      <th>count</th>\n",
       "      <td>1258.000000</td>\n",
       "      <td>1258.000000</td>\n",
       "      <td>1258.000000</td>\n",
       "      <td>1258.000000</td>\n",
       "      <td>1258.000000</td>\n",
       "      <td>1258.000000</td>\n",
       "      <td>1258.000000</td>\n",
       "      <td>1.258000e+03</td>\n",
       "      <td>1.258000e+03</td>\n",
       "      <td>1258.000000</td>\n",
       "    </tr>\n",
       "    <tr>\n",
       "      <th>mean</th>\n",
       "      <td>0.074609</td>\n",
       "      <td>0.767967</td>\n",
       "      <td>0.077395</td>\n",
       "      <td>126.205267</td>\n",
       "      <td>127.260977</td>\n",
       "      <td>125.101040</td>\n",
       "      <td>126.186758</td>\n",
       "      <td>3.695206e+07</td>\n",
       "      <td>4.306254e+07</td>\n",
       "      <td>126.232335</td>\n",
       "    </tr>\n",
       "    <tr>\n",
       "      <th>std</th>\n",
       "      <td>2.011206</td>\n",
       "      <td>0.550710</td>\n",
       "      <td>1.494487</td>\n",
       "      <td>39.312111</td>\n",
       "      <td>39.677456</td>\n",
       "      <td>38.948316</td>\n",
       "      <td>39.320805</td>\n",
       "      <td>2.051902e+07</td>\n",
       "      <td>2.379830e+07</td>\n",
       "      <td>39.298271</td>\n",
       "    </tr>\n",
       "    <tr>\n",
       "      <th>min</th>\n",
       "      <td>-14.688700</td>\n",
       "      <td>-0.082060</td>\n",
       "      <td>-7.993000</td>\n",
       "      <td>65.526600</td>\n",
       "      <td>65.755800</td>\n",
       "      <td>64.709600</td>\n",
       "      <td>64.923300</td>\n",
       "      <td>5.704942e+06</td>\n",
       "      <td>1.147592e+07</td>\n",
       "      <td>57.582200</td>\n",
       "    </tr>\n",
       "    <tr>\n",
       "      <th>25%</th>\n",
       "      <td>-0.714904</td>\n",
       "      <td>0.350009</td>\n",
       "      <td>-0.613500</td>\n",
       "      <td>96.369550</td>\n",
       "      <td>97.058000</td>\n",
       "      <td>95.537500</td>\n",
       "      <td>95.987300</td>\n",
       "      <td>2.357676e+07</td>\n",
       "      <td>2.660238e+07</td>\n",
       "      <td>96.338500</td>\n",
       "    </tr>\n",
       "    <tr>\n",
       "      <th>50%</th>\n",
       "      <td>0.067517</td>\n",
       "      <td>0.584753</td>\n",
       "      <td>0.061500</td>\n",
       "      <td>113.126650</td>\n",
       "      <td>113.812200</td>\n",
       "      <td>112.398600</td>\n",
       "      <td>113.106150</td>\n",
       "      <td>3.311536e+07</td>\n",
       "      <td>3.703142e+07</td>\n",
       "      <td>113.176550</td>\n",
       "    </tr>\n",
       "    <tr>\n",
       "      <th>75%</th>\n",
       "      <td>1.014775</td>\n",
       "      <td>1.170042</td>\n",
       "      <td>0.849250</td>\n",
       "      <td>154.907125</td>\n",
       "      <td>156.776725</td>\n",
       "      <td>153.655500</td>\n",
       "      <td>155.269725</td>\n",
       "      <td>4.645314e+07</td>\n",
       "      <td>5.246383e+07</td>\n",
       "      <td>155.682850</td>\n",
       "    </tr>\n",
       "    <tr>\n",
       "      <th>max</th>\n",
       "      <td>11.132000</td>\n",
       "      <td>2.239687</td>\n",
       "      <td>8.198000</td>\n",
       "      <td>231.263100</td>\n",
       "      <td>232.658200</td>\n",
       "      <td>228.981100</td>\n",
       "      <td>229.977600</td>\n",
       "      <td>1.898463e+08</td>\n",
       "      <td>2.668336e+08</td>\n",
       "      <td>231.426900</td>\n",
       "    </tr>\n",
       "  </tbody>\n",
       "</table>\n",
       "</div>"
      ],
      "text/plain": [
       "            change  changeOverTime  changePercent        close         high  \\\n",
       "count  1258.000000     1258.000000    1258.000000  1258.000000  1258.000000   \n",
       "mean      0.074609        0.767967       0.077395   126.205267   127.260977   \n",
       "std       2.011206        0.550710       1.494487    39.312111    39.677456   \n",
       "min     -14.688700       -0.082060      -7.993000    65.526600    65.755800   \n",
       "25%      -0.714904        0.350009      -0.613500    96.369550    97.058000   \n",
       "50%       0.067517        0.584753       0.061500   113.126650   113.812200   \n",
       "75%       1.014775        1.170042       0.849250   154.907125   156.776725   \n",
       "max      11.132000        2.239687       8.198000   231.263100   232.658200   \n",
       "\n",
       "               low         open  unadjustedVolume        volume         vwap  \n",
       "count  1258.000000  1258.000000      1.258000e+03  1.258000e+03  1258.000000  \n",
       "mean    125.101040   126.186758      3.695206e+07  4.306254e+07   126.232335  \n",
       "std      38.948316    39.320805      2.051902e+07  2.379830e+07    39.298271  \n",
       "min      64.709600    64.923300      5.704942e+06  1.147592e+07    57.582200  \n",
       "25%      95.537500    95.987300      2.357676e+07  2.660238e+07    96.338500  \n",
       "50%     112.398600   113.106150      3.311536e+07  3.703142e+07   113.176550  \n",
       "75%     153.655500   155.269725      4.645314e+07  5.246383e+07   155.682850  \n",
       "max     228.981100   229.977600      1.898463e+08  2.668336e+08   231.426900  "
      ]
     },
     "execution_count": 3,
     "metadata": {},
     "output_type": "execute_result"
    }
   ],
   "source": [
    "df.describe()"
   ]
  },
  {
   "cell_type": "markdown",
   "metadata": {},
   "source": [
    "## Info of DataFrame"
   ]
  },
  {
   "cell_type": "code",
   "execution_count": 4,
   "metadata": {},
   "outputs": [
    {
     "name": "stdout",
     "output_type": "stream",
     "text": [
      "<class 'pandas.core.frame.DataFrame'>\n",
      "RangeIndex: 1258 entries, 0 to 1257\n",
      "Data columns (total 12 columns):\n",
      "change              1258 non-null float64\n",
      "changeOverTime      1258 non-null float64\n",
      "changePercent       1258 non-null float64\n",
      "close               1258 non-null float64\n",
      "date                1258 non-null object\n",
      "high                1258 non-null float64\n",
      "label               1258 non-null object\n",
      "low                 1258 non-null float64\n",
      "open                1258 non-null float64\n",
      "unadjustedVolume    1258 non-null int64\n",
      "volume              1258 non-null int64\n",
      "vwap                1258 non-null float64\n",
      "dtypes: float64(8), int64(2), object(2)\n",
      "memory usage: 118.0+ KB\n"
     ]
    }
   ],
   "source": [
    "df.info()"
   ]
  },
  {
   "cell_type": "markdown",
   "metadata": {},
   "source": [
    "## Datetime of DataFrame"
   ]
  },
  {
   "cell_type": "code",
   "execution_count": 5,
   "metadata": {},
   "outputs": [],
   "source": [
    "df['date_pd'] = pd.to_datetime(df.date)"
   ]
  },
  {
   "cell_type": "code",
   "execution_count": 6,
   "metadata": {},
   "outputs": [
    {
     "data": {
      "text/html": [
       "<div>\n",
       "<style scoped>\n",
       "    .dataframe tbody tr th:only-of-type {\n",
       "        vertical-align: middle;\n",
       "    }\n",
       "\n",
       "    .dataframe tbody tr th {\n",
       "        vertical-align: top;\n",
       "    }\n",
       "\n",
       "    .dataframe thead th {\n",
       "        text-align: right;\n",
       "    }\n",
       "</style>\n",
       "<table border=\"1\" class=\"dataframe\">\n",
       "  <thead>\n",
       "    <tr style=\"text-align: right;\">\n",
       "      <th></th>\n",
       "      <th>change</th>\n",
       "      <th>changeOverTime</th>\n",
       "      <th>changePercent</th>\n",
       "      <th>close</th>\n",
       "      <th>date</th>\n",
       "      <th>high</th>\n",
       "      <th>label</th>\n",
       "      <th>low</th>\n",
       "      <th>open</th>\n",
       "      <th>unadjustedVolume</th>\n",
       "      <th>volume</th>\n",
       "      <th>vwap</th>\n",
       "      <th>date_pd</th>\n",
       "    </tr>\n",
       "  </thead>\n",
       "  <tbody>\n",
       "    <tr>\n",
       "      <th>0</th>\n",
       "      <td>-0.827309</td>\n",
       "      <td>0.000000</td>\n",
       "      <td>-1.146</td>\n",
       "      <td>71.3844</td>\n",
       "      <td>2013-12-19</td>\n",
       "      <td>72.1107</td>\n",
       "      <td>Dec 19, 13</td>\n",
       "      <td>71.2887</td>\n",
       "      <td>72.0452</td>\n",
       "      <td>11462767</td>\n",
       "      <td>80239369</td>\n",
       "      <td>71.6091</td>\n",
       "      <td>2013-12-19</td>\n",
       "    </tr>\n",
       "    <tr>\n",
       "      <th>1</th>\n",
       "      <td>0.597864</td>\n",
       "      <td>0.008374</td>\n",
       "      <td>0.838</td>\n",
       "      <td>71.9822</td>\n",
       "      <td>2013-12-20</td>\n",
       "      <td>72.3218</td>\n",
       "      <td>Dec 20, 13</td>\n",
       "      <td>71.4313</td>\n",
       "      <td>71.5116</td>\n",
       "      <td>15586205</td>\n",
       "      <td>109103435</td>\n",
       "      <td>71.9809</td>\n",
       "      <td>2013-12-20</td>\n",
       "    </tr>\n",
       "    <tr>\n",
       "      <th>2</th>\n",
       "      <td>2.762500</td>\n",
       "      <td>0.047073</td>\n",
       "      <td>3.838</td>\n",
       "      <td>74.7447</td>\n",
       "      <td>2013-12-23</td>\n",
       "      <td>74.8273</td>\n",
       "      <td>Dec 23, 13</td>\n",
       "      <td>73.7837</td>\n",
       "      <td>74.4707</td>\n",
       "      <td>17903833</td>\n",
       "      <td>125326831</td>\n",
       "      <td>74.4027</td>\n",
       "      <td>2013-12-23</td>\n",
       "    </tr>\n",
       "  </tbody>\n",
       "</table>\n",
       "</div>"
      ],
      "text/plain": [
       "     change  changeOverTime  changePercent    close        date     high  \\\n",
       "0 -0.827309        0.000000         -1.146  71.3844  2013-12-19  72.1107   \n",
       "1  0.597864        0.008374          0.838  71.9822  2013-12-20  72.3218   \n",
       "2  2.762500        0.047073          3.838  74.7447  2013-12-23  74.8273   \n",
       "\n",
       "        label      low     open  unadjustedVolume     volume     vwap  \\\n",
       "0  Dec 19, 13  71.2887  72.0452          11462767   80239369  71.6091   \n",
       "1  Dec 20, 13  71.4313  71.5116          15586205  109103435  71.9809   \n",
       "2  Dec 23, 13  73.7837  74.4707          17903833  125326831  74.4027   \n",
       "\n",
       "     date_pd  \n",
       "0 2013-12-19  \n",
       "1 2013-12-20  \n",
       "2 2013-12-23  "
      ]
     },
     "execution_count": 6,
     "metadata": {},
     "output_type": "execute_result"
    }
   ],
   "source": [
    "df.head(3)"
   ]
  },
  {
   "cell_type": "code",
   "execution_count": 7,
   "metadata": {},
   "outputs": [
    {
     "data": {
      "text/html": [
       "<div>\n",
       "<style scoped>\n",
       "    .dataframe tbody tr th:only-of-type {\n",
       "        vertical-align: middle;\n",
       "    }\n",
       "\n",
       "    .dataframe tbody tr th {\n",
       "        vertical-align: top;\n",
       "    }\n",
       "\n",
       "    .dataframe thead th {\n",
       "        text-align: right;\n",
       "    }\n",
       "</style>\n",
       "<table border=\"1\" class=\"dataframe\">\n",
       "  <thead>\n",
       "    <tr style=\"text-align: right;\">\n",
       "      <th></th>\n",
       "      <th>change</th>\n",
       "      <th>changeOverTime</th>\n",
       "      <th>changePercent</th>\n",
       "      <th>close</th>\n",
       "      <th>date</th>\n",
       "      <th>high</th>\n",
       "      <th>label</th>\n",
       "      <th>low</th>\n",
       "      <th>open</th>\n",
       "      <th>unadjustedVolume</th>\n",
       "      <th>volume</th>\n",
       "      <th>vwap</th>\n",
       "      <th>date_pd</th>\n",
       "      <th>year</th>\n",
       "    </tr>\n",
       "  </thead>\n",
       "  <tbody>\n",
       "    <tr>\n",
       "      <th>0</th>\n",
       "      <td>-0.827309</td>\n",
       "      <td>0.000000</td>\n",
       "      <td>-1.146</td>\n",
       "      <td>71.3844</td>\n",
       "      <td>2013-12-19</td>\n",
       "      <td>72.1107</td>\n",
       "      <td>Dec 19, 13</td>\n",
       "      <td>71.2887</td>\n",
       "      <td>72.0452</td>\n",
       "      <td>11462767</td>\n",
       "      <td>80239369</td>\n",
       "      <td>71.6091</td>\n",
       "      <td>2013-12-19</td>\n",
       "      <td>2013</td>\n",
       "    </tr>\n",
       "    <tr>\n",
       "      <th>1</th>\n",
       "      <td>0.597864</td>\n",
       "      <td>0.008374</td>\n",
       "      <td>0.838</td>\n",
       "      <td>71.9822</td>\n",
       "      <td>2013-12-20</td>\n",
       "      <td>72.3218</td>\n",
       "      <td>Dec 20, 13</td>\n",
       "      <td>71.4313</td>\n",
       "      <td>71.5116</td>\n",
       "      <td>15586205</td>\n",
       "      <td>109103435</td>\n",
       "      <td>71.9809</td>\n",
       "      <td>2013-12-20</td>\n",
       "      <td>2013</td>\n",
       "    </tr>\n",
       "    <tr>\n",
       "      <th>2</th>\n",
       "      <td>2.762500</td>\n",
       "      <td>0.047073</td>\n",
       "      <td>3.838</td>\n",
       "      <td>74.7447</td>\n",
       "      <td>2013-12-23</td>\n",
       "      <td>74.8273</td>\n",
       "      <td>Dec 23, 13</td>\n",
       "      <td>73.7837</td>\n",
       "      <td>74.4707</td>\n",
       "      <td>17903833</td>\n",
       "      <td>125326831</td>\n",
       "      <td>74.4027</td>\n",
       "      <td>2013-12-23</td>\n",
       "      <td>2013</td>\n",
       "    </tr>\n",
       "  </tbody>\n",
       "</table>\n",
       "</div>"
      ],
      "text/plain": [
       "     change  changeOverTime  changePercent    close        date     high  \\\n",
       "0 -0.827309        0.000000         -1.146  71.3844  2013-12-19  72.1107   \n",
       "1  0.597864        0.008374          0.838  71.9822  2013-12-20  72.3218   \n",
       "2  2.762500        0.047073          3.838  74.7447  2013-12-23  74.8273   \n",
       "\n",
       "        label      low     open  unadjustedVolume     volume     vwap  \\\n",
       "0  Dec 19, 13  71.2887  72.0452          11462767   80239369  71.6091   \n",
       "1  Dec 20, 13  71.4313  71.5116          15586205  109103435  71.9809   \n",
       "2  Dec 23, 13  73.7837  74.4707          17903833  125326831  74.4027   \n",
       "\n",
       "     date_pd  year  \n",
       "0 2013-12-19  2013  \n",
       "1 2013-12-20  2013  \n",
       "2 2013-12-23  2013  "
      ]
     },
     "execution_count": 7,
     "metadata": {},
     "output_type": "execute_result"
    }
   ],
   "source": [
    "df['year'] = df.date_pd.dt.year\n",
    "df.head(3)"
   ]
  },
  {
   "cell_type": "markdown",
   "metadata": {},
   "source": [
    "## Regression Model"
   ]
  },
  {
   "cell_type": "code",
   "execution_count": 8,
   "metadata": {},
   "outputs": [],
   "source": [
    "%matplotlib inline\n",
    "matplotlib.rcParams['figure.figsize'] = [6, 4]"
   ]
  },
  {
   "cell_type": "markdown",
   "metadata": {},
   "source": [
    "## Split Data Into Train & Test Data"
   ]
  },
  {
   "cell_type": "code",
   "execution_count": 9,
   "metadata": {},
   "outputs": [],
   "source": [
    "# TO PASS IN DATA\n",
    "X_full, Y_full = df.date_pd, df.close"
   ]
  },
  {
   "cell_type": "code",
   "execution_count": 10,
   "metadata": {},
   "outputs": [],
   "source": [
    "X_train, X_test, Y_train, Y_test = train_test_split(X_full, Y_full, test_size=0.5, random_state=10)"
   ]
  },
  {
   "cell_type": "code",
   "execution_count": 11,
   "metadata": {},
   "outputs": [
    {
     "data": {
      "text/plain": [
       "Text(0.5, 1.0, 'Actual Stock Price')"
      ]
     },
     "execution_count": 11,
     "metadata": {},
     "output_type": "execute_result"
    },
    {
     "data": {
      "image/png": "[encoded data removed]",
      "text/plain": [
       "<Figure size 432x288 with 1 Axes>"
      ]
     },
     "metadata": {
      "needs_background": "light"
     },
     "output_type": "display_data"
    }
   ],
   "source": [
    "plt.plot(X_train, Y_train, 'bo', markersize=3)\n",
    "plt.title('Actual Stock Price')"
   ]
  },
  {
   "cell_type": "code",
   "execution_count": 12,
   "metadata": {},
   "outputs": [
    {
     "data": {
      "text/plain": [
       "Text(0.5, 1.0, 'Test Set')"
      ]
     },
     "execution_count": 12,
     "metadata": {},
     "output_type": "execute_result"
    },
    {
     "data": {
      "image/png": "[encoded data removed]",
      "text/plain": [
       "<Figure size 432x288 with 1 Axes>"
      ]
     },
     "metadata": {
      "needs_background": "light"
     },
     "output_type": "display_data"
    }
   ],
   "source": [
    "plt.plot(X_test, Y_test, 'bo', markersize=3)\n",
    "plt.title('Test Set')"
   ]
  },
  {
   "cell_type": "markdown",
   "metadata": {},
   "source": [
    "## Fit Training Data Into Regression"
   ]
  },
  {
   "cell_type": "code",
   "execution_count": 13,
   "metadata": {},
   "outputs": [],
   "source": [
    "X_full_numpy = matplotlib.dates.date2num(X_full)\n",
    "# X_full_numpy = [matplotlib.dates.date2num(x) for x in X_full]\n",
    "\n",
    "\n",
    "Y_full_numpy = Y_full\n",
    "X_train_numpy, X_test_numpy, Y_train_numpy, Y_test_numpy = train_test_split(X_full_numpy, Y_full_numpy, test_size=0.5, random_state=10)\n"
   ]
  },
  {
   "cell_type": "code",
   "execution_count": 14,
   "metadata": {},
   "outputs": [],
   "source": [
    "# result = X_full_numpy.sort()\n",
    "# type(X_full_numpy)"
   ]
  },
  {
   "cell_type": "code",
   "execution_count": null,
   "metadata": {},
   "outputs": [],
   "source": []
  },
  {
   "cell_type": "code",
   "execution_count": 15,
   "metadata": {},
   "outputs": [
    {
     "name": "stderr",
     "output_type": "stream",
     "text": [
      "/Users/joyceliao/.local/share/virtualenvs/data_analysis-2Dzdq7Jq/lib/python3.7/site-packages/ipykernel_launcher.py:3: RankWarning: The fit may be poorly conditioned\n",
      "  This is separate from the ipykernel package so we can avoid doing imports until\n"
     ]
    }
   ],
   "source": [
    "coefs_lin = poly.polyfit(X_train_numpy, Y_train_numpy, 1)\n",
    "coefs_sq = poly.polyfit(X_train_numpy, Y_train_numpy, 2)\n",
    "coefs_ten = poly.polyfit(X_train_numpy, Y_train_numpy, 11)\n"
   ]
  },
  {
   "cell_type": "code",
   "execution_count": 23,
   "metadata": {},
   "outputs": [
    {
     "data": {
      "text/plain": [
       "array([-48478.13635813, -48478.12975418, -48478.12315023, ...,\n",
       "       -48445.1364157 , -48445.12981175, -48445.1232078 ])"
      ]
     },
     "execution_count": 23,
     "metadata": {},
     "output_type": "execute_result"
    }
   ],
   "source": [
    "# fix X_line - pass in actual X numbers\n",
    "X_line = np.linspace(0, 500, 5000)\n",
    "ffit_ln = poly.polyval(X_line, coefs_lin)\n",
    "ffit_sq = poly.polyval(X_line, coefs_sq)\n",
    "ffit_ten = poly.polyval(X_line, coefs_ten)"
   ]
  },
  {
   "cell_type": "code",
   "execution_count": 17,
   "metadata": {
    "scrolled": true
   },
   "outputs": [
    {
     "data": {
      "text/plain": [
       "Text(0.5, 1.0, '5-Year Stock Trend')"
      ]
     },
     "execution_count": 17,
     "metadata": {},
     "output_type": "execute_result"
    },
    {
     "data": {
      "image/png": "[encoded data removed]",
      "text/plain": [
       "<Figure size 432x288 with 1 Axes>"
      ]
     },
     "metadata": {
      "needs_background": "light"
     },
     "output_type": "display_data"
    }
   ],
   "source": [
    "# plt.ylim?\n",
    "plt.ylim(min(Y_train_numpy - 20), max(Y_train_numpy + 50))\n",
    "plt.xlim(min(X_train_numpy), max(X_train_numpy))\n",
    "plt.plot(X_line, ffit_ln, 'g')\n",
    "plt.plot(X_line, ffit_sq, 'b')\n",
    "plt.plot(X_line, ffit_ten, 'r')\n",
    "\n",
    "# X_month = matplotlib.dates.MonthLocator()\n",
    "\n",
    "plt.plot(X_train_numpy, Y_train_numpy, 'ro', markersize=4)\n",
    "plt.title('5-Year Stock Trend')"
   ]
  },
  {
   "cell_type": "markdown",
   "metadata": {},
   "source": [
    "## Conclusion (1): "
   ]
  },
  {
   "cell_type": "code",
   "execution_count": 18,
   "metadata": {},
   "outputs": [
    {
     "name": "stdout",
     "output_type": "stream",
     "text": [
      "The price of stock came in a wave form, but generally follows an upward direction over the years.\n"
     ]
    }
   ],
   "source": [
    "print(f'The price of stock came in a wave form, but generally follows an upward direction over the years.')"
   ]
  },
  {
   "cell_type": "markdown",
   "metadata": {},
   "source": [
    "## Conclusion (2):"
   ]
  },
  {
   "cell_type": "code",
   "execution_count": 19,
   "metadata": {},
   "outputs": [
    {
     "data": {
      "text/html": [
       "<div>\n",
       "<style scoped>\n",
       "    .dataframe tbody tr th:only-of-type {\n",
       "        vertical-align: middle;\n",
       "    }\n",
       "\n",
       "    .dataframe tbody tr th {\n",
       "        vertical-align: top;\n",
       "    }\n",
       "\n",
       "    .dataframe thead th {\n",
       "        text-align: right;\n",
       "    }\n",
       "</style>\n",
       "<table border=\"1\" class=\"dataframe\">\n",
       "  <thead>\n",
       "    <tr style=\"text-align: right;\">\n",
       "      <th></th>\n",
       "      <th>change</th>\n",
       "      <th>changeOverTime</th>\n",
       "      <th>changePercent</th>\n",
       "      <th>close</th>\n",
       "      <th>date</th>\n",
       "      <th>high</th>\n",
       "      <th>label</th>\n",
       "      <th>low</th>\n",
       "      <th>open</th>\n",
       "      <th>unadjustedVolume</th>\n",
       "      <th>volume</th>\n",
       "      <th>vwap</th>\n",
       "      <th>date_pd</th>\n",
       "      <th>year</th>\n",
       "    </tr>\n",
       "  </thead>\n",
       "  <tbody>\n",
       "    <tr>\n",
       "      <th>1205</th>\n",
       "      <td>2.7803</td>\n",
       "      <td>2.239687</td>\n",
       "      <td>1.217</td>\n",
       "      <td>231.2631</td>\n",
       "      <td>2018-10-03</td>\n",
       "      <td>232.6582</td>\n",
       "      <td>Oct 3, 18</td>\n",
       "      <td>228.9811</td>\n",
       "      <td>229.2501</td>\n",
       "      <td>28654799</td>\n",
       "      <td>28654799</td>\n",
       "      <td>231.4269</td>\n",
       "      <td>2018-10-03</td>\n",
       "      <td>2018</td>\n",
       "    </tr>\n",
       "  </tbody>\n",
       "</table>\n",
       "</div>"
      ],
      "text/plain": [
       "      change  changeOverTime  changePercent     close        date      high  \\\n",
       "1205  2.7803        2.239687          1.217  231.2631  2018-10-03  232.6582   \n",
       "\n",
       "          label       low      open  unadjustedVolume    volume      vwap  \\\n",
       "1205  Oct 3, 18  228.9811  229.2501          28654799  28654799  231.4269   \n",
       "\n",
       "        date_pd  year  \n",
       "1205 2018-10-03  2018  "
      ]
     },
     "execution_count": 19,
     "metadata": {},
     "output_type": "execute_result"
    }
   ],
   "source": [
    "highest = df.sort_values(by=['close']).tail(1)\n",
    "highest"
   ]
  },
  {
   "cell_type": "code",
   "execution_count": 20,
   "metadata": {},
   "outputs": [
    {
     "name": "stdout",
     "output_type": "stream",
     "text": [
      "The highest point of the stock price during the 5 years was $231.\n"
     ]
    }
   ],
   "source": [
    "print(f'The highest point of the stock price during the 5 years was $231.')"
   ]
  },
  {
   "cell_type": "markdown",
   "metadata": {},
   "source": [
    "## Conclusion (3): "
   ]
  },
  {
   "cell_type": "code",
   "execution_count": 21,
   "metadata": {},
   "outputs": [
    {
     "data": {
      "text/html": [
       "<div>\n",
       "<style scoped>\n",
       "    .dataframe tbody tr th:only-of-type {\n",
       "        vertical-align: middle;\n",
       "    }\n",
       "\n",
       "    .dataframe tbody tr th {\n",
       "        vertical-align: top;\n",
       "    }\n",
       "\n",
       "    .dataframe thead th {\n",
       "        text-align: right;\n",
       "    }\n",
       "</style>\n",
       "<table border=\"1\" class=\"dataframe\">\n",
       "  <thead>\n",
       "    <tr style=\"text-align: right;\">\n",
       "      <th></th>\n",
       "      <th>change</th>\n",
       "      <th>changeOverTime</th>\n",
       "      <th>changePercent</th>\n",
       "      <th>close</th>\n",
       "      <th>date</th>\n",
       "      <th>high</th>\n",
       "      <th>label</th>\n",
       "      <th>low</th>\n",
       "      <th>open</th>\n",
       "      <th>unadjustedVolume</th>\n",
       "      <th>volume</th>\n",
       "      <th>vwap</th>\n",
       "      <th>date_pd</th>\n",
       "      <th>year</th>\n",
       "    </tr>\n",
       "  </thead>\n",
       "  <tbody>\n",
       "    <tr>\n",
       "      <th>27</th>\n",
       "      <td>-0.126916</td>\n",
       "      <td>-0.08206</td>\n",
       "      <td>-0.193</td>\n",
       "      <td>65.5266</td>\n",
       "      <td>2014-01-30</td>\n",
       "      <td>66.4074</td>\n",
       "      <td>Jan 30, 14</td>\n",
       "      <td>65.1226</td>\n",
       "      <td>65.8882</td>\n",
       "      <td>24251827</td>\n",
       "      <td>169762789</td>\n",
       "      <td>71.9614</td>\n",
       "      <td>2014-01-30</td>\n",
       "      <td>2014</td>\n",
       "    </tr>\n",
       "  </tbody>\n",
       "</table>\n",
       "</div>"
      ],
      "text/plain": [
       "      change  changeOverTime  changePercent    close        date     high  \\\n",
       "27 -0.126916        -0.08206         -0.193  65.5266  2014-01-30  66.4074   \n",
       "\n",
       "         label      low     open  unadjustedVolume     volume     vwap  \\\n",
       "27  Jan 30, 14  65.1226  65.8882          24251827  169762789  71.9614   \n",
       "\n",
       "      date_pd  year  \n",
       "27 2014-01-30  2014  "
      ]
     },
     "execution_count": 21,
     "metadata": {},
     "output_type": "execute_result"
    }
   ],
   "source": [
    "lowest = df.sort_values(by=['close']).head(1)\n",
    "lowest"
   ]
  },
  {
   "cell_type": "code",
   "execution_count": 22,
   "metadata": {},
   "outputs": [
    {
     "name": "stdout",
     "output_type": "stream",
     "text": [
      "The lowest point of the stock price during the 5 years was $66.\n"
     ]
    }
   ],
   "source": [
    "print(f'The lowest point of the stock price during the 5 years was $66.')"
   ]
  }
 ],
 "metadata": {
  "kernelspec": {
   "display_name": "Python 3",
   "language": "python",
   "name": "python3"
  },
  "language_info": {
   "codemirror_mode": {
    "name": "ipython",
    "version": 3
   },
   "file_extension": ".py",
   "mimetype": "text/x-python",
   "name": "python",
   "nbconvert_exporter": "python",
   "pygments_lexer": "ipython3",
   "version": "3.7.1"
  }
 },
 "nbformat": 4,
 "nbformat_minor": 2
}
